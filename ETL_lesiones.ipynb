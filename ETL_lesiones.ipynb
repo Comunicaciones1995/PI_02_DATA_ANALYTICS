{
 "cells": [
  {
   "cell_type": "markdown",
   "metadata": {},
   "source": [
    "# PROCESO DE EXTRACCIÓN - TRANSFORMACIÓN - LIMPIEZA DE LOS REGISTROS DE ACCIDENTES OCURRIDOS EN LA CIUDAD DE BUENOS AIRES"
   ]
  },
  {
   "cell_type": "markdown",
   "metadata": {},
   "source": [
    "## 1 - DESCARGA DE LOS DATASETS PARA EL PROCESO..."
   ]
  },
  {
   "cell_type": "markdown",
   "metadata": {},
   "source": [
    "url = https://data.buenosaires.gob.ar/dataset/victimas-siniestros-viales"
   ]
  },
  {
   "cell_type": "markdown",
   "metadata": {},
   "source": [
    "## 2 - IMPORTACIÓN DE LAS LIBRERIAS PARA EL PROCESO..."
   ]
  },
  {
   "cell_type": "code",
   "execution_count": 2,
   "metadata": {},
   "outputs": [],
   "source": [
    "import os\n",
    "import pandas as pd\n",
    "from datetime import datetime, time\n",
    "from datetime import datetime, time, timedelta\n",
    "import numpy as np"
   ]
  },
  {
   "cell_type": "markdown",
   "metadata": {},
   "source": [
    "## 3 - EXPLORACIÓN INICIAL DE LOS ARCHIVOS CON FORMATO .xlsx Y CREACIÓN DE LOS DATAFRAMES PARA EL PROCESO DE ETL..."
   ]
  },
  {
   "cell_type": "code",
   "execution_count": 3,
   "metadata": {},
   "outputs": [
    {
     "name": "stdout",
     "output_type": "stream",
     "text": [
      "Hojas en el archivo 'homicidios.xlsx':\n",
      "['HECHOS', 'DICCIONARIO_HECHOS', 'VICTIMAS', 'DICCIONARIO_VICTIMAS', 'clas']\n",
      "\n",
      "Hojas en el archivo 'lesiones.xlsx':\n",
      "['HECHOS', 'DICCIONARIO_HECHOS', 'VICTIMAS', 'DICCIONARIO_VICTIMAS']\n"
     ]
    }
   ],
   "source": [
    "# LECTURA DE LOS ARCHIVOS...\n",
    "\n",
    "# Ruta de la carpeta que contiene los archivos\n",
    "carpeta_dataset = \"DATASET_BRUTO\"\n",
    "\n",
    "# Nombre de los archivos\n",
    "archivo_homicidios = \"homicidios.xlsx\"\n",
    "archivo_lesiones = \"lesiones.xlsx\"\n",
    "\n",
    "# Ruta completa de los archivos\n",
    "ruta_homicidios = os.path.join(carpeta_dataset, archivo_homicidios)\n",
    "ruta_lesiones = os.path.join(carpeta_dataset, archivo_lesiones)\n",
    "\n",
    "# Obtener nombres de las hojas en el archivo 'homicidios.xlsx'\n",
    "hojas_homicidios = pd.ExcelFile(ruta_homicidios).sheet_names\n",
    "\n",
    "# Obtener nombres de las hojas en el archivo 'lesiones.xlsx'\n",
    "hojas_lesiones = pd.ExcelFile(ruta_lesiones).sheet_names\n",
    "\n",
    "# Imprimir en pantalla los nombres de las hojas\n",
    "print(\"Hojas en el archivo 'homicidios.xlsx':\")\n",
    "print(hojas_homicidios)\n",
    "\n",
    "print(\"\\nHojas en el archivo 'lesiones.xlsx':\")\n",
    "print(hojas_lesiones)"
   ]
  },
  {
   "cell_type": "code",
   "execution_count": 4,
   "metadata": {},
   "outputs": [
    {
     "name": "stdout",
     "output_type": "stream",
     "text": [
      "EL PROCESO EN EL ARCHIVO lesiones.xlsx SE EJECUTÓ CON ÉXITO...\n"
     ]
    }
   ],
   "source": [
    "# CREACIÓN DE LOS DATAFRAMES CORRESPONDIENTES AL ARCHIVO \"lesiones.xlsx\"\n",
    "\n",
    "# Ruta del archivo\n",
    "archivo_excel = 'DATASET_BRUTO/lesiones.xlsx'\n",
    "\n",
    "# Lee la hoja 'HECHOS' del archivo Excel en un DataFrame\n",
    "try:\n",
    "    hechos_lesiones = pd.read_excel(archivo_excel, sheet_name='HECHOS')\n",
    "    diccionario_hechos_lesiones = pd.read_excel(archivo_excel, sheet_name='DICCIONARIO_HECHOS')\n",
    "    victimas_lesiones = pd.read_excel(archivo_excel, sheet_name='VICTIMAS')\n",
    "    diccionario_victimas_lesiones = pd.read_excel(archivo_excel, sheet_name='DICCIONARIO_VICTIMAS')\n",
    "except Exception as e:\n",
    "    print(f\"Error al leer el archivo: {e}\")\n",
    "\n",
    "print(\"EL PROCESO EN EL ARCHIVO lesiones.xlsx SE EJECUTÓ CON ÉXITO...\")"
   ]
  },
  {
   "cell_type": "markdown",
   "metadata": {},
   "source": [
    "## 4 - PROCESO DE ETL PARA EL ARCHIVO lesiones.xlsx..."
   ]
  },
  {
   "cell_type": "markdown",
   "metadata": {},
   "source": [
    "En esta parte del proceso se tiene disponible los siguientes DATAFRAMES que resultaron del archivo \"homicidios.xlsx\". Los dataframes mencionados son:\n",
    "\n",
    "* hechos_lesiones\n",
    "* diccionario_hechos_lesiones\n",
    "* victimas_lesiones\n",
    "* diccionario_victimas_lesiones\n",
    "\n",
    "De estos dataframes, solo se utilizará el denominado \"hechos_lesiones\" y \"victimas_lesiones\"."
   ]
  },
  {
   "cell_type": "markdown",
   "metadata": {},
   "source": [
    "### a. DATAFRAME \"HECHOS_LESIONES\"..."
   ]
  },
  {
   "cell_type": "markdown",
   "metadata": {},
   "source": [
    "#### (1) EXPLORACIÓN INICIAL..."
   ]
  },
  {
   "cell_type": "code",
   "execution_count": 5,
   "metadata": {},
   "outputs": [
    {
     "data": {
      "text/html": [
       "<div>\n",
       "<style scoped>\n",
       "    .dataframe tbody tr th:only-of-type {\n",
       "        vertical-align: middle;\n",
       "    }\n",
       "\n",
       "    .dataframe tbody tr th {\n",
       "        vertical-align: top;\n",
       "    }\n",
       "\n",
       "    .dataframe thead th {\n",
       "        text-align: right;\n",
       "    }\n",
       "</style>\n",
       "<table border=\"1\" class=\"dataframe\">\n",
       "  <thead>\n",
       "    <tr style=\"text-align: right;\">\n",
       "      <th></th>\n",
       "      <th>id</th>\n",
       "      <th>n_victimas</th>\n",
       "      <th>aaaa</th>\n",
       "      <th>mm</th>\n",
       "      <th>dd</th>\n",
       "      <th>fecha</th>\n",
       "      <th>hora</th>\n",
       "      <th>franja_hora</th>\n",
       "      <th>direccion_normalizada</th>\n",
       "      <th>comuna</th>\n",
       "      <th>...</th>\n",
       "      <th>latutid</th>\n",
       "      <th>victima</th>\n",
       "      <th>acusado</th>\n",
       "      <th>participantes</th>\n",
       "      <th>moto</th>\n",
       "      <th>auto</th>\n",
       "      <th>transporte_publico</th>\n",
       "      <th>camion</th>\n",
       "      <th>ciclista</th>\n",
       "      <th>gravedad</th>\n",
       "    </tr>\n",
       "  </thead>\n",
       "  <tbody>\n",
       "    <tr>\n",
       "      <th>0</th>\n",
       "      <td>LC-2019-0000179</td>\n",
       "      <td>1</td>\n",
       "      <td>2019</td>\n",
       "      <td>1</td>\n",
       "      <td>1</td>\n",
       "      <td>2019-01-01 00:00:00</td>\n",
       "      <td>09:00:00</td>\n",
       "      <td>9</td>\n",
       "      <td>SD</td>\n",
       "      <td>14</td>\n",
       "      <td>...</td>\n",
       "      <td>-34.559658</td>\n",
       "      <td>CICLISTA</td>\n",
       "      <td>SD</td>\n",
       "      <td>CICLISTA-SD</td>\n",
       "      <td>SD</td>\n",
       "      <td>SD</td>\n",
       "      <td>SD</td>\n",
       "      <td>SD</td>\n",
       "      <td>x</td>\n",
       "      <td>SD</td>\n",
       "    </tr>\n",
       "    <tr>\n",
       "      <th>1</th>\n",
       "      <td>LC-2019-0000053</td>\n",
       "      <td>1</td>\n",
       "      <td>2019</td>\n",
       "      <td>1</td>\n",
       "      <td>1</td>\n",
       "      <td>2019-01-01 00:00:00</td>\n",
       "      <td>01:55:00</td>\n",
       "      <td>1</td>\n",
       "      <td>SD</td>\n",
       "      <td>8</td>\n",
       "      <td>...</td>\n",
       "      <td>-34.669125</td>\n",
       "      <td>AUTO</td>\n",
       "      <td>SD</td>\n",
       "      <td>AUTO-SD</td>\n",
       "      <td>SD</td>\n",
       "      <td>x</td>\n",
       "      <td>SD</td>\n",
       "      <td>SD</td>\n",
       "      <td>SD</td>\n",
       "      <td>SD</td>\n",
       "    </tr>\n",
       "    <tr>\n",
       "      <th>2</th>\n",
       "      <td>LC-2019-0000063</td>\n",
       "      <td>1</td>\n",
       "      <td>2019</td>\n",
       "      <td>1</td>\n",
       "      <td>1</td>\n",
       "      <td>2019-01-01 00:00:00</td>\n",
       "      <td>02:00:00</td>\n",
       "      <td>2</td>\n",
       "      <td>SD</td>\n",
       "      <td>8</td>\n",
       "      <td>...</td>\n",
       "      <td>-34.677556</td>\n",
       "      <td>SD</td>\n",
       "      <td>SD</td>\n",
       "      <td>SD-SD</td>\n",
       "      <td>SD</td>\n",
       "      <td>SD</td>\n",
       "      <td>SD</td>\n",
       "      <td>SD</td>\n",
       "      <td>SD</td>\n",
       "      <td>SD</td>\n",
       "    </tr>\n",
       "    <tr>\n",
       "      <th>3</th>\n",
       "      <td>LC-2019-0000079</td>\n",
       "      <td>1</td>\n",
       "      <td>2019</td>\n",
       "      <td>1</td>\n",
       "      <td>1</td>\n",
       "      <td>2019-01-01 00:00:00</td>\n",
       "      <td>02:30:00</td>\n",
       "      <td>2</td>\n",
       "      <td>SD</td>\n",
       "      <td>7</td>\n",
       "      <td>...</td>\n",
       "      <td>-34.647349</td>\n",
       "      <td>PEATON</td>\n",
       "      <td>SD</td>\n",
       "      <td>PEATON-SD</td>\n",
       "      <td>x</td>\n",
       "      <td>SD</td>\n",
       "      <td>SD</td>\n",
       "      <td>SD</td>\n",
       "      <td>SD</td>\n",
       "      <td>SD</td>\n",
       "    </tr>\n",
       "    <tr>\n",
       "      <th>4</th>\n",
       "      <td>LC-2019-0000082</td>\n",
       "      <td>4</td>\n",
       "      <td>2019</td>\n",
       "      <td>1</td>\n",
       "      <td>1</td>\n",
       "      <td>2019-01-01 00:00:00</td>\n",
       "      <td>04:30:00</td>\n",
       "      <td>4</td>\n",
       "      <td>SD</td>\n",
       "      <td>3</td>\n",
       "      <td>...</td>\n",
       "      <td>-34.604579</td>\n",
       "      <td>AUTO</td>\n",
       "      <td>SD</td>\n",
       "      <td>AUTO-SD</td>\n",
       "      <td>SD</td>\n",
       "      <td>SD</td>\n",
       "      <td>x</td>\n",
       "      <td>SD</td>\n",
       "      <td>SD</td>\n",
       "      <td>SD</td>\n",
       "    </tr>\n",
       "  </tbody>\n",
       "</table>\n",
       "<p>5 rows × 27 columns</p>\n",
       "</div>"
      ],
      "text/plain": [
       "                id  n_victimas  aaaa  mm  dd                fecha      hora  \\\n",
       "0  LC-2019-0000179           1  2019   1   1  2019-01-01 00:00:00  09:00:00   \n",
       "1  LC-2019-0000053           1  2019   1   1  2019-01-01 00:00:00  01:55:00   \n",
       "2  LC-2019-0000063           1  2019   1   1  2019-01-01 00:00:00  02:00:00   \n",
       "3  LC-2019-0000079           1  2019   1   1  2019-01-01 00:00:00  02:30:00   \n",
       "4  LC-2019-0000082           4  2019   1   1  2019-01-01 00:00:00  04:30:00   \n",
       "\n",
       "  franja_hora direccion_normalizada comuna  ...     latutid   victima acusado  \\\n",
       "0           9                    SD     14  ...  -34.559658  CICLISTA      SD   \n",
       "1           1                    SD      8  ...  -34.669125      AUTO      SD   \n",
       "2           2                    SD      8  ...  -34.677556        SD      SD   \n",
       "3           2                    SD      7  ...  -34.647349    PEATON      SD   \n",
       "4           4                    SD      3  ...  -34.604579      AUTO      SD   \n",
       "\n",
       "   participantes moto auto transporte_publico camion ciclista gravedad  \n",
       "0    CICLISTA-SD   SD   SD                 SD     SD        x       SD  \n",
       "1        AUTO-SD   SD    x                 SD     SD       SD       SD  \n",
       "2          SD-SD   SD   SD                 SD     SD       SD       SD  \n",
       "3      PEATON-SD    x   SD                 SD     SD       SD       SD  \n",
       "4        AUTO-SD   SD   SD                  x     SD       SD       SD  \n",
       "\n",
       "[5 rows x 27 columns]"
      ]
     },
     "execution_count": 5,
     "metadata": {},
     "output_type": "execute_result"
    }
   ],
   "source": [
    "hechos_lesiones.head(5)"
   ]
  },
  {
   "cell_type": "code",
   "execution_count": 6,
   "metadata": {},
   "outputs": [
    {
     "name": "stdout",
     "output_type": "stream",
     "text": [
      "<class 'pandas.core.frame.DataFrame'>\n",
      "RangeIndex: 23785 entries, 0 to 23784\n",
      "Data columns (total 27 columns):\n",
      " #   Column                 Non-Null Count  Dtype  \n",
      "---  ------                 --------------  -----  \n",
      " 0   id                     23785 non-null  object \n",
      " 1   n_victimas             23785 non-null  int64  \n",
      " 2   aaaa                   23785 non-null  int64  \n",
      " 3   mm                     23785 non-null  int64  \n",
      " 4   dd                     23785 non-null  int64  \n",
      " 5   fecha                  23785 non-null  object \n",
      " 6   hora                   23785 non-null  object \n",
      " 7   franja_hora            23780 non-null  object \n",
      " 8   direccion_normalizada  23732 non-null  object \n",
      " 9   comuna                 23616 non-null  object \n",
      " 10  tipo_calle             23785 non-null  object \n",
      " 11  otra_direccion         23785 non-null  object \n",
      " 12  calle                  12867 non-null  object \n",
      " 13  altura                 12771 non-null  float64\n",
      " 14  cruce                  9407 non-null   object \n",
      " 15  geocodificacion_CABA   23746 non-null  object \n",
      " 16  longitud               23523 non-null  object \n",
      " 17  latutid                23523 non-null  object \n",
      " 18  victima                23785 non-null  object \n",
      " 19  acusado                23785 non-null  object \n",
      " 20  participantes          23785 non-null  object \n",
      " 21  moto                   23692 non-null  object \n",
      " 22  auto                   23692 non-null  object \n",
      " 23  transporte_publico     23692 non-null  object \n",
      " 24  camion                 23692 non-null  object \n",
      " 25  ciclista               23692 non-null  object \n",
      " 26  gravedad               23785 non-null  object \n",
      "dtypes: float64(1), int64(4), object(22)\n",
      "memory usage: 4.9+ MB\n"
     ]
    }
   ],
   "source": [
    "hechos_lesiones.info()"
   ]
  },
  {
   "cell_type": "code",
   "execution_count": 7,
   "metadata": {},
   "outputs": [
    {
     "data": {
      "text/plain": [
       "id                        object\n",
       "n_victimas                 int64\n",
       "aaaa                       int64\n",
       "mm                         int64\n",
       "dd                         int64\n",
       "fecha                     object\n",
       "hora                      object\n",
       "franja_hora               object\n",
       "direccion_normalizada     object\n",
       "comuna                    object\n",
       "tipo_calle                object\n",
       "otra_direccion            object\n",
       "calle                     object\n",
       "altura                   float64\n",
       "cruce                     object\n",
       "geocodificacion_CABA      object\n",
       "longitud                  object\n",
       "latutid                   object\n",
       "victima                   object\n",
       "acusado                   object\n",
       "participantes             object\n",
       "moto                      object\n",
       "auto                      object\n",
       "transporte_publico        object\n",
       "camion                    object\n",
       "ciclista                  object\n",
       "gravedad                  object\n",
       "dtype: object"
      ]
     },
     "execution_count": 7,
     "metadata": {},
     "output_type": "execute_result"
    }
   ],
   "source": [
    "hechos_lesiones.dtypes"
   ]
  },
  {
   "cell_type": "code",
   "execution_count": 8,
   "metadata": {},
   "outputs": [
    {
     "data": {
      "text/plain": [
       "(23785, 27)"
      ]
     },
     "execution_count": 8,
     "metadata": {},
     "output_type": "execute_result"
    }
   ],
   "source": [
    "hechos_lesiones.shape"
   ]
  },
  {
   "cell_type": "code",
   "execution_count": 9,
   "metadata": {},
   "outputs": [
    {
     "data": {
      "text/plain": [
       "id                           0\n",
       "n_victimas                   0\n",
       "aaaa                         0\n",
       "mm                           0\n",
       "dd                           0\n",
       "fecha                        0\n",
       "hora                         0\n",
       "franja_hora                  5\n",
       "direccion_normalizada       53\n",
       "comuna                     169\n",
       "tipo_calle                   0\n",
       "otra_direccion               0\n",
       "calle                    10918\n",
       "altura                   11014\n",
       "cruce                    14378\n",
       "geocodificacion_CABA        39\n",
       "longitud                   262\n",
       "latutid                    262\n",
       "victima                      0\n",
       "acusado                      0\n",
       "participantes                0\n",
       "moto                        93\n",
       "auto                        93\n",
       "transporte_publico          93\n",
       "camion                      93\n",
       "ciclista                    93\n",
       "gravedad                     0\n",
       "dtype: int64"
      ]
     },
     "execution_count": 9,
     "metadata": {},
     "output_type": "execute_result"
    }
   ],
   "source": [
    "hechos_lesiones.isnull().sum()"
   ]
  },
  {
   "cell_type": "code",
   "execution_count": 10,
   "metadata": {},
   "outputs": [
    {
     "data": {
      "text/plain": [
       "Index(['id', 'n_victimas', 'aaaa', 'mm', 'dd', 'fecha', 'hora', 'franja_hora',\n",
       "       'direccion_normalizada', 'comuna', 'tipo_calle', 'otra_direccion',\n",
       "       'calle', 'altura', 'cruce', 'geocodificacion_CABA', 'longitud',\n",
       "       'latutid', 'victima', 'acusado', 'participantes', 'moto', 'auto',\n",
       "       'transporte_publico', 'camion', 'ciclista', 'gravedad'],\n",
       "      dtype='object')"
      ]
     },
     "execution_count": 10,
     "metadata": {},
     "output_type": "execute_result"
    }
   ],
   "source": [
    "hechos_lesiones.columns"
   ]
  },
  {
   "cell_type": "markdown",
   "metadata": {},
   "source": [
    "#### (2) PROCESO DE ETL DEL DATAFRAME..."
   ]
  },
  {
   "cell_type": "code",
   "execution_count": 11,
   "metadata": {},
   "outputs": [],
   "source": [
    "# ELIMINACIÓN DE LAS COLUMNAS INNECESARIAS...\n",
    "\n",
    "columnas_a_eliminar = ['fecha', 'hora', 'calle', 'altura', 'cruce', 'direccion_normalizada', 'otra_direccion', 'participantes', 'geocodificacion_CABA', 'tipo_calle']\n",
    "hechos_lesiones = hechos_lesiones.drop(columnas_a_eliminar, axis=1)"
   ]
  },
  {
   "cell_type": "code",
   "execution_count": 12,
   "metadata": {},
   "outputs": [],
   "source": [
    "# RENOMBRAR LAS COLUMNAS...\n",
    "\n",
    "nuevos_nombres = {'id': 'ID', 'n_victimas':'NUMERO_DE_VICTIMAS', 'aaaa': 'AÑO', 'mm': 'MES', 'dd': 'DIA', 'franja_hora': 'FRANJA_HORARIA', 'comuna': 'COMUNA', 'longitud': 'LONGITUD', 'latutid': 'LATITUD', 'gravedad': 'GRAVEDAD', 'victima': 'VICTIMA', 'acusado': 'ACUSADO'}\n",
    "hechos_lesiones = hechos_lesiones.rename(columns=nuevos_nombres)"
   ]
  },
  {
   "cell_type": "code",
   "execution_count": 13,
   "metadata": {},
   "outputs": [],
   "source": [
    "# TRABAJO CON LAS COLUMNAS DE LOS VEHICULOS DEL DATAFRAME...\n",
    "\n",
    "# Preparación de la columna moto\n",
    "valor_a_cambiar_moto = ['x', '0']\n",
    "nuevo_valor_moto = 'moto'\n",
    "hechos_lesiones['moto'] = hechos_lesiones['moto'].replace(valor_a_cambiar_moto, nuevo_valor_moto)\n",
    "\n",
    "# Preparación de la columna auto\n",
    "valor_a_cambiar_auto = ['x', '0']\n",
    "nuevo_valor_auto = 'auto'\n",
    "hechos_lesiones['auto'] = hechos_lesiones['auto'].replace(valor_a_cambiar_auto, nuevo_valor_auto)\n",
    "\n",
    "# Preparación de la columna transporte_publico\n",
    "valor_a_cambiar_transporte_publico = ['x', '0']\n",
    "nuevo_valor_transporte_publico = 'transporte_publico'\n",
    "hechos_lesiones['transporte_publico'] = hechos_lesiones['transporte_publico'].replace(valor_a_cambiar_transporte_publico, nuevo_valor_transporte_publico)\n",
    "\n",
    "# Preparación de la columna camion\n",
    "valor_a_cambiar_camion = ['x', '0']\n",
    "nuevo_valor_camion = 'camion'\n",
    "hechos_lesiones['camion'] = hechos_lesiones['camion'].replace(valor_a_cambiar_camion, nuevo_valor_camion)\n",
    "\n",
    "# Preparación de la columna ciclista\n",
    "valor_a_cambiar_ciclista = ['x', '0']\n",
    "nuevo_valor_ciclista = 'ciclista'\n",
    "hechos_lesiones['ciclista'] = hechos_lesiones['ciclista'].replace(valor_a_cambiar_ciclista, nuevo_valor_ciclista)\n",
    "\n",
    "# Crear la nueva columna 'VEHÍCULO_HECHO'\n",
    "hechos_lesiones['VEHICULO_SINIESTRO'] = hechos_lesiones.apply(lambda row: 'moto' if row['moto'] == 'moto'\n",
    "                                          else 'auto' if row['auto'] == 'auto'\n",
    "                                          else 'transporte_publico' if row['transporte_publico'] == 'transporte_publico'\n",
    "                                          else 'camion' if row['camion'] == 'camion'\n",
    "                                          else 'ciclista' if row['ciclista'] == 'ciclista'\n",
    "                                          else None, axis=1)\n",
    "\n",
    "# Lista de columnas que deseas eliminar\n",
    "columnas_a_eliminar = ['moto', 'auto', 'transporte_publico', 'camion', 'ciclista']\n",
    "\n",
    "# Eliminar las columnas especificadas\n",
    "hechos_lesiones = hechos_lesiones.drop(columnas_a_eliminar, axis=1)"
   ]
  },
  {
   "cell_type": "code",
   "execution_count": 14,
   "metadata": {},
   "outputs": [],
   "source": [
    "# TRABAJO CON LA COLUMNA \"FRANJA_HORARIA\"\n",
    "\n",
    "hechos_lesiones['FRANJA_HORARIA'] = hechos_lesiones['FRANJA_HORARIA'].replace(['sd', np.nan], 17)\n",
    "\n",
    "hechos_lesiones['FRANJA_HORARIA'] = hechos_lesiones['FRANJA_HORARIA'].astype(int)"
   ]
  },
  {
   "cell_type": "code",
   "execution_count": 15,
   "metadata": {},
   "outputs": [],
   "source": [
    "# TRABAJO CON LA COLUMNA \"COMUNA\"...\n",
    "\n",
    "# Eliminar filas con NaN en las columnas especificadas\n",
    "columnas_a_verificar = ['COMUNA']\n",
    "hechos_lesiones = hechos_lesiones.dropna(subset=columnas_a_verificar)\n",
    "\n",
    "# Eliminar filas con 'SD', 'sd' y None en las columnas especificadas\n",
    "valores_a_eliminar = ['SD', 'sd', 'No Especificada', None, np.nan]\n",
    "for columna in columnas_a_verificar:\n",
    "    hechos_lesiones = hechos_lesiones[~hechos_lesiones[columna].isin(valores_a_eliminar)]\n",
    "\n",
    "hechos_lesiones['COMUNA'] = hechos_lesiones['COMUNA'].astype(int)"
   ]
  },
  {
   "cell_type": "code",
   "execution_count": 16,
   "metadata": {},
   "outputs": [],
   "source": [
    "# TRABAJO CON LA COLUMNA \"LONGITUD\" Y \"LATITUD\"...\n",
    "\n",
    "# Eliminar filas con NaN en las columnas especificadas\n",
    "columnas_a_verificar = ['LONGITUD', 'LATITUD']\n",
    "hechos_lesiones = hechos_lesiones.dropna(subset=columnas_a_verificar)\n",
    "\n",
    "# Eliminar filas con 'SD', 'sd' y None en las columnas especificadas\n",
    "valores_a_eliminar = ['SD', 'sd', None, np.nan]\n",
    "for columna in columnas_a_verificar:\n",
    "    hechos_lesiones = hechos_lesiones[~hechos_lesiones[columna].isin(valores_a_eliminar)]"
   ]
  },
  {
   "cell_type": "code",
   "execution_count": 17,
   "metadata": {},
   "outputs": [],
   "source": [
    "# TRABAJO CON LA COLUMNA \"VICTIMA\"\n",
    "\n",
    "hechos_lesiones['VICTIMA'] = hechos_lesiones['VICTIMA'].replace('SD', 'MOTO')"
   ]
  },
  {
   "cell_type": "code",
   "execution_count": 18,
   "metadata": {},
   "outputs": [],
   "source": [
    "# TRABAJO CON LA COLUMNA \"ACUSADO\"\n",
    "\n",
    "hechos_lesiones['ACUSADO'] = hechos_lesiones['ACUSADO'].replace('SD', 'AUTO')"
   ]
  },
  {
   "cell_type": "code",
   "execution_count": 19,
   "metadata": {},
   "outputs": [],
   "source": [
    "# TRABAJO CON LA COLUMNA \"VEHICULO_SINIESTRO\"\n",
    "\n",
    "hechos_lesiones['VEHICULO_SINIESTRO'] = hechos_lesiones['VEHICULO_SINIESTRO'].fillna('auto')"
   ]
  },
  {
   "cell_type": "code",
   "execution_count": 20,
   "metadata": {},
   "outputs": [],
   "source": [
    "# TRABAJO CON LA COLUMNA \"GRAVEDAD\"\n",
    "\n",
    "hechos_lesiones['GRAVEDAD'] = hechos_lesiones['GRAVEDAD'].replace(['sd', 'SD'], 'GRAVE')"
   ]
  },
  {
   "cell_type": "code",
   "execution_count": 21,
   "metadata": {},
   "outputs": [],
   "source": [
    "# NORMALIZACIÓN DE LOS DATOS DE LAS COLUMNAS EN UN SOLO TIPO DE DATOS...\n",
    "\n",
    "hechos_lesiones['ID'] = hechos_lesiones['ID'].astype(str)\n",
    "hechos_lesiones['VICTIMA'] = hechos_lesiones['VICTIMA'].astype(str)\n",
    "hechos_lesiones['ACUSADO'] = hechos_lesiones['ACUSADO'].astype(str)\n",
    "hechos_lesiones['GRAVEDAD'] = hechos_lesiones['GRAVEDAD'].astype(str)\n",
    "hechos_lesiones['VEHICULO_SINIESTRO'] = hechos_lesiones['VEHICULO_SINIESTRO'].astype(str)"
   ]
  },
  {
   "cell_type": "code",
   "execution_count": 22,
   "metadata": {},
   "outputs": [],
   "source": [
    "# TRABAJO CON LA COLUMNA \"pos x\" Y \"pos y\"\n",
    "\n",
    "hechos_lesiones['LONGITUD'] = pd.to_numeric(hechos_lesiones['LONGITUD'], errors='coerce')\n",
    "hechos_lesiones['LATITUD'] = pd.to_numeric(hechos_lesiones['LATITUD'], errors='coerce')"
   ]
  },
  {
   "cell_type": "code",
   "execution_count": 23,
   "metadata": {},
   "outputs": [],
   "source": [
    "# TRATAMIENTO DE VALORES DEL DATAFRAME...\n",
    "\n",
    "# Identificar valores nulos en el DataFrame y contarlos por columna\n",
    "valores_nulos = hechos_lesiones.isnull().sum()\n",
    "\n",
    "# Identificar valores faltantes (en blanco) en el DataFrame y contarlos por columna\n",
    "valores_faltantes = (hechos_lesiones == '').sum()\n",
    "\n",
    "# Identificar valores iguales a \"SD\" en el DataFrame y contarlos por columna\n",
    "valores_SD = (hechos_lesiones == 'SD').sum()\n",
    "\n",
    "# Identificar valores iguales a \"sd\" en el DataFrame y contarlos por columna\n",
    "valores_sd = (hechos_lesiones == 'sd').sum()\n",
    "\n",
    "# Calcular porcentajes\n",
    "porcentaje_nulos = (valores_nulos / len(hechos_lesiones)) * 100\n",
    "porcentaje_faltantes = (valores_faltantes / len(hechos_lesiones)) * 100\n",
    "porcentaje_SD = (valores_SD / len(hechos_lesiones)) * 100\n",
    "porcentaje_sd = (valores_sd / len(hechos_lesiones)) * 100\n",
    "\n",
    "# Crear un DataFrame con los resultados\n",
    "resultados_datos_hechos_lesiones = pd.DataFrame({\n",
    "    'Valores Nulos': valores_nulos,\n",
    "    'Porcentaje Nulos': porcentaje_nulos,\n",
    "    'Valores Faltantes': valores_faltantes,\n",
    "    'Porcentaje Faltantes': porcentaje_faltantes,\n",
    "    'Valores \"SD\"': valores_SD,\n",
    "    'Porcentaje \"SD\"': porcentaje_SD,\n",
    "    'Valores \"sd\"': valores_sd,\n",
    "    'Porcentaje \"sd\"': porcentaje_sd\n",
    "})"
   ]
  },
  {
   "cell_type": "code",
   "execution_count": 24,
   "metadata": {},
   "outputs": [
    {
     "data": {
      "text/html": [
       "<div>\n",
       "<style scoped>\n",
       "    .dataframe tbody tr th:only-of-type {\n",
       "        vertical-align: middle;\n",
       "    }\n",
       "\n",
       "    .dataframe tbody tr th {\n",
       "        vertical-align: top;\n",
       "    }\n",
       "\n",
       "    .dataframe thead th {\n",
       "        text-align: right;\n",
       "    }\n",
       "</style>\n",
       "<table border=\"1\" class=\"dataframe\">\n",
       "  <thead>\n",
       "    <tr style=\"text-align: right;\">\n",
       "      <th></th>\n",
       "      <th>Valores Nulos</th>\n",
       "      <th>Porcentaje Nulos</th>\n",
       "      <th>Valores Faltantes</th>\n",
       "      <th>Porcentaje Faltantes</th>\n",
       "      <th>Valores \"SD\"</th>\n",
       "      <th>Porcentaje \"SD\"</th>\n",
       "      <th>Valores \"sd\"</th>\n",
       "      <th>Porcentaje \"sd\"</th>\n",
       "    </tr>\n",
       "  </thead>\n",
       "  <tbody>\n",
       "    <tr>\n",
       "      <th>ID</th>\n",
       "      <td>0</td>\n",
       "      <td>0.0</td>\n",
       "      <td>0</td>\n",
       "      <td>0.0</td>\n",
       "      <td>0</td>\n",
       "      <td>0.0</td>\n",
       "      <td>0</td>\n",
       "      <td>0.0</td>\n",
       "    </tr>\n",
       "    <tr>\n",
       "      <th>NUMERO_DE_VICTIMAS</th>\n",
       "      <td>0</td>\n",
       "      <td>0.0</td>\n",
       "      <td>0</td>\n",
       "      <td>0.0</td>\n",
       "      <td>0</td>\n",
       "      <td>0.0</td>\n",
       "      <td>0</td>\n",
       "      <td>0.0</td>\n",
       "    </tr>\n",
       "    <tr>\n",
       "      <th>AÑO</th>\n",
       "      <td>0</td>\n",
       "      <td>0.0</td>\n",
       "      <td>0</td>\n",
       "      <td>0.0</td>\n",
       "      <td>0</td>\n",
       "      <td>0.0</td>\n",
       "      <td>0</td>\n",
       "      <td>0.0</td>\n",
       "    </tr>\n",
       "    <tr>\n",
       "      <th>MES</th>\n",
       "      <td>0</td>\n",
       "      <td>0.0</td>\n",
       "      <td>0</td>\n",
       "      <td>0.0</td>\n",
       "      <td>0</td>\n",
       "      <td>0.0</td>\n",
       "      <td>0</td>\n",
       "      <td>0.0</td>\n",
       "    </tr>\n",
       "    <tr>\n",
       "      <th>DIA</th>\n",
       "      <td>0</td>\n",
       "      <td>0.0</td>\n",
       "      <td>0</td>\n",
       "      <td>0.0</td>\n",
       "      <td>0</td>\n",
       "      <td>0.0</td>\n",
       "      <td>0</td>\n",
       "      <td>0.0</td>\n",
       "    </tr>\n",
       "    <tr>\n",
       "      <th>FRANJA_HORARIA</th>\n",
       "      <td>0</td>\n",
       "      <td>0.0</td>\n",
       "      <td>0</td>\n",
       "      <td>0.0</td>\n",
       "      <td>0</td>\n",
       "      <td>0.0</td>\n",
       "      <td>0</td>\n",
       "      <td>0.0</td>\n",
       "    </tr>\n",
       "    <tr>\n",
       "      <th>COMUNA</th>\n",
       "      <td>0</td>\n",
       "      <td>0.0</td>\n",
       "      <td>0</td>\n",
       "      <td>0.0</td>\n",
       "      <td>0</td>\n",
       "      <td>0.0</td>\n",
       "      <td>0</td>\n",
       "      <td>0.0</td>\n",
       "    </tr>\n",
       "    <tr>\n",
       "      <th>LONGITUD</th>\n",
       "      <td>0</td>\n",
       "      <td>0.0</td>\n",
       "      <td>0</td>\n",
       "      <td>0.0</td>\n",
       "      <td>0</td>\n",
       "      <td>0.0</td>\n",
       "      <td>0</td>\n",
       "      <td>0.0</td>\n",
       "    </tr>\n",
       "    <tr>\n",
       "      <th>LATITUD</th>\n",
       "      <td>0</td>\n",
       "      <td>0.0</td>\n",
       "      <td>0</td>\n",
       "      <td>0.0</td>\n",
       "      <td>0</td>\n",
       "      <td>0.0</td>\n",
       "      <td>0</td>\n",
       "      <td>0.0</td>\n",
       "    </tr>\n",
       "    <tr>\n",
       "      <th>VICTIMA</th>\n",
       "      <td>0</td>\n",
       "      <td>0.0</td>\n",
       "      <td>0</td>\n",
       "      <td>0.0</td>\n",
       "      <td>0</td>\n",
       "      <td>0.0</td>\n",
       "      <td>0</td>\n",
       "      <td>0.0</td>\n",
       "    </tr>\n",
       "    <tr>\n",
       "      <th>ACUSADO</th>\n",
       "      <td>0</td>\n",
       "      <td>0.0</td>\n",
       "      <td>0</td>\n",
       "      <td>0.0</td>\n",
       "      <td>0</td>\n",
       "      <td>0.0</td>\n",
       "      <td>0</td>\n",
       "      <td>0.0</td>\n",
       "    </tr>\n",
       "    <tr>\n",
       "      <th>GRAVEDAD</th>\n",
       "      <td>0</td>\n",
       "      <td>0.0</td>\n",
       "      <td>0</td>\n",
       "      <td>0.0</td>\n",
       "      <td>0</td>\n",
       "      <td>0.0</td>\n",
       "      <td>0</td>\n",
       "      <td>0.0</td>\n",
       "    </tr>\n",
       "    <tr>\n",
       "      <th>VEHICULO_SINIESTRO</th>\n",
       "      <td>0</td>\n",
       "      <td>0.0</td>\n",
       "      <td>0</td>\n",
       "      <td>0.0</td>\n",
       "      <td>0</td>\n",
       "      <td>0.0</td>\n",
       "      <td>0</td>\n",
       "      <td>0.0</td>\n",
       "    </tr>\n",
       "  </tbody>\n",
       "</table>\n",
       "</div>"
      ],
      "text/plain": [
       "                    Valores Nulos  Porcentaje Nulos  Valores Faltantes  \\\n",
       "ID                              0               0.0                  0   \n",
       "NUMERO_DE_VICTIMAS              0               0.0                  0   \n",
       "AÑO                             0               0.0                  0   \n",
       "MES                             0               0.0                  0   \n",
       "DIA                             0               0.0                  0   \n",
       "FRANJA_HORARIA                  0               0.0                  0   \n",
       "COMUNA                          0               0.0                  0   \n",
       "LONGITUD                        0               0.0                  0   \n",
       "LATITUD                         0               0.0                  0   \n",
       "VICTIMA                         0               0.0                  0   \n",
       "ACUSADO                         0               0.0                  0   \n",
       "GRAVEDAD                        0               0.0                  0   \n",
       "VEHICULO_SINIESTRO              0               0.0                  0   \n",
       "\n",
       "                    Porcentaje Faltantes  Valores \"SD\"  Porcentaje \"SD\"  \\\n",
       "ID                                   0.0             0              0.0   \n",
       "NUMERO_DE_VICTIMAS                   0.0             0              0.0   \n",
       "AÑO                                  0.0             0              0.0   \n",
       "MES                                  0.0             0              0.0   \n",
       "DIA                                  0.0             0              0.0   \n",
       "FRANJA_HORARIA                       0.0             0              0.0   \n",
       "COMUNA                               0.0             0              0.0   \n",
       "LONGITUD                             0.0             0              0.0   \n",
       "LATITUD                              0.0             0              0.0   \n",
       "VICTIMA                              0.0             0              0.0   \n",
       "ACUSADO                              0.0             0              0.0   \n",
       "GRAVEDAD                             0.0             0              0.0   \n",
       "VEHICULO_SINIESTRO                   0.0             0              0.0   \n",
       "\n",
       "                    Valores \"sd\"  Porcentaje \"sd\"  \n",
       "ID                             0              0.0  \n",
       "NUMERO_DE_VICTIMAS             0              0.0  \n",
       "AÑO                            0              0.0  \n",
       "MES                            0              0.0  \n",
       "DIA                            0              0.0  \n",
       "FRANJA_HORARIA                 0              0.0  \n",
       "COMUNA                         0              0.0  \n",
       "LONGITUD                       0              0.0  \n",
       "LATITUD                        0              0.0  \n",
       "VICTIMA                        0              0.0  \n",
       "ACUSADO                        0              0.0  \n",
       "GRAVEDAD                       0              0.0  \n",
       "VEHICULO_SINIESTRO             0              0.0  "
      ]
     },
     "execution_count": 24,
     "metadata": {},
     "output_type": "execute_result"
    }
   ],
   "source": [
    "resultados_datos_hechos_lesiones"
   ]
  },
  {
   "cell_type": "markdown",
   "metadata": {},
   "source": [
    "### b. DATAFRAME \"VICTIMAS_LESIONES\"..."
   ]
  },
  {
   "cell_type": "markdown",
   "metadata": {},
   "source": [
    "#### (1) EXPLORACIÓN INICIAL..."
   ]
  },
  {
   "cell_type": "code",
   "execution_count": 25,
   "metadata": {},
   "outputs": [
    {
     "data": {
      "text/html": [
       "<div>\n",
       "<style scoped>\n",
       "    .dataframe tbody tr th:only-of-type {\n",
       "        vertical-align: middle;\n",
       "    }\n",
       "\n",
       "    .dataframe tbody tr th {\n",
       "        vertical-align: top;\n",
       "    }\n",
       "\n",
       "    .dataframe thead th {\n",
       "        text-align: right;\n",
       "    }\n",
       "</style>\n",
       "<table border=\"1\" class=\"dataframe\">\n",
       "  <thead>\n",
       "    <tr style=\"text-align: right;\">\n",
       "      <th></th>\n",
       "      <th>ID hecho</th>\n",
       "      <th>AAA</th>\n",
       "      <th>MM</th>\n",
       "      <th>DD</th>\n",
       "      <th>FECHA</th>\n",
       "      <th>VEHICULO_VICTIMA</th>\n",
       "      <th>SEXO</th>\n",
       "      <th>EDAD_VICTIMA</th>\n",
       "      <th>GRAVEDAD</th>\n",
       "    </tr>\n",
       "  </thead>\n",
       "  <tbody>\n",
       "    <tr>\n",
       "      <th>0</th>\n",
       "      <td>LC-2019-0000053</td>\n",
       "      <td>2019</td>\n",
       "      <td>1</td>\n",
       "      <td>1</td>\n",
       "      <td>2019-01-01</td>\n",
       "      <td>sd</td>\n",
       "      <td>Varon</td>\n",
       "      <td>57</td>\n",
       "      <td>SD</td>\n",
       "    </tr>\n",
       "    <tr>\n",
       "      <th>1</th>\n",
       "      <td>LC-2019-0000063</td>\n",
       "      <td>2019</td>\n",
       "      <td>1</td>\n",
       "      <td>1</td>\n",
       "      <td>2019-01-01</td>\n",
       "      <td>sd</td>\n",
       "      <td>SD</td>\n",
       "      <td>SD</td>\n",
       "      <td>SD</td>\n",
       "    </tr>\n",
       "    <tr>\n",
       "      <th>2</th>\n",
       "      <td>LC-2019-0000079</td>\n",
       "      <td>2019</td>\n",
       "      <td>1</td>\n",
       "      <td>1</td>\n",
       "      <td>2019-01-01</td>\n",
       "      <td>sd</td>\n",
       "      <td>Varon</td>\n",
       "      <td>SD</td>\n",
       "      <td>SD</td>\n",
       "    </tr>\n",
       "    <tr>\n",
       "      <th>3</th>\n",
       "      <td>LC-2019-0000082</td>\n",
       "      <td>2019</td>\n",
       "      <td>1</td>\n",
       "      <td>1</td>\n",
       "      <td>2019-01-01</td>\n",
       "      <td>sd</td>\n",
       "      <td>Varon</td>\n",
       "      <td>45</td>\n",
       "      <td>SD</td>\n",
       "    </tr>\n",
       "    <tr>\n",
       "      <th>4</th>\n",
       "      <td>LC-2019-0000082</td>\n",
       "      <td>2019</td>\n",
       "      <td>1</td>\n",
       "      <td>1</td>\n",
       "      <td>2019-01-01</td>\n",
       "      <td>sd</td>\n",
       "      <td>Mujer</td>\n",
       "      <td>45</td>\n",
       "      <td>SD</td>\n",
       "    </tr>\n",
       "  </tbody>\n",
       "</table>\n",
       "</div>"
      ],
      "text/plain": [
       "          ID hecho   AAA  MM  DD     FECHA  VEHICULO_VICTIMA   SEXO  \\\n",
       "0  LC-2019-0000053  2019   1   1 2019-01-01               sd  Varon   \n",
       "1  LC-2019-0000063  2019   1   1 2019-01-01               sd     SD   \n",
       "2  LC-2019-0000079  2019   1   1 2019-01-01               sd  Varon   \n",
       "3  LC-2019-0000082  2019   1   1 2019-01-01               sd  Varon   \n",
       "4  LC-2019-0000082  2019   1   1 2019-01-01               sd  Mujer   \n",
       "\n",
       "  EDAD_VICTIMA GRAVEDAD  \n",
       "0           57       SD  \n",
       "1           SD       SD  \n",
       "2           SD       SD  \n",
       "3           45       SD  \n",
       "4           45       SD  "
      ]
     },
     "execution_count": 25,
     "metadata": {},
     "output_type": "execute_result"
    }
   ],
   "source": [
    "victimas_lesiones.head(5)"
   ]
  },
  {
   "cell_type": "code",
   "execution_count": 26,
   "metadata": {},
   "outputs": [
    {
     "name": "stdout",
     "output_type": "stream",
     "text": [
      "<class 'pandas.core.frame.DataFrame'>\n",
      "RangeIndex: 27605 entries, 0 to 27604\n",
      "Data columns (total 9 columns):\n",
      " #   Column            Non-Null Count  Dtype         \n",
      "---  ------            --------------  -----         \n",
      " 0   ID hecho          27605 non-null  object        \n",
      " 1   AAA               27605 non-null  int64         \n",
      " 2   MM                27605 non-null  int64         \n",
      " 3   DD                27605 non-null  int64         \n",
      " 4   FECHA             27605 non-null  datetime64[ns]\n",
      " 5   VEHICULO_VICTIMA  27605 non-null  object        \n",
      " 6   SEXO              27605 non-null  object        \n",
      " 7   EDAD_VICTIMA      27605 non-null  object        \n",
      " 8   GRAVEDAD          27605 non-null  object        \n",
      "dtypes: datetime64[ns](1), int64(3), object(5)\n",
      "memory usage: 1.9+ MB\n"
     ]
    }
   ],
   "source": [
    "victimas_lesiones.info()"
   ]
  },
  {
   "cell_type": "code",
   "execution_count": 27,
   "metadata": {},
   "outputs": [
    {
     "data": {
      "text/plain": [
       "ID hecho                    object\n",
       "AAA                          int64\n",
       "MM                           int64\n",
       "DD                           int64\n",
       "FECHA               datetime64[ns]\n",
       "VEHICULO_VICTIMA            object\n",
       "SEXO                        object\n",
       "EDAD_VICTIMA                object\n",
       "GRAVEDAD                    object\n",
       "dtype: object"
      ]
     },
     "execution_count": 27,
     "metadata": {},
     "output_type": "execute_result"
    }
   ],
   "source": [
    "victimas_lesiones.dtypes"
   ]
  },
  {
   "cell_type": "code",
   "execution_count": 28,
   "metadata": {},
   "outputs": [
    {
     "data": {
      "text/plain": [
       "(27605, 9)"
      ]
     },
     "execution_count": 28,
     "metadata": {},
     "output_type": "execute_result"
    }
   ],
   "source": [
    "victimas_lesiones.shape"
   ]
  },
  {
   "cell_type": "code",
   "execution_count": 29,
   "metadata": {},
   "outputs": [
    {
     "data": {
      "text/plain": [
       "ID hecho            0\n",
       "AAA                 0\n",
       "MM                  0\n",
       "DD                  0\n",
       "FECHA               0\n",
       "VEHICULO_VICTIMA    0\n",
       "SEXO                0\n",
       "EDAD_VICTIMA        0\n",
       "GRAVEDAD            0\n",
       "dtype: int64"
      ]
     },
     "execution_count": 29,
     "metadata": {},
     "output_type": "execute_result"
    }
   ],
   "source": [
    "victimas_lesiones.isnull().sum()"
   ]
  },
  {
   "cell_type": "code",
   "execution_count": 30,
   "metadata": {},
   "outputs": [
    {
     "data": {
      "text/plain": [
       "Index(['ID hecho', 'AAA', 'MM', 'DD', 'FECHA ', 'VEHICULO_VICTIMA', 'SEXO',\n",
       "       'EDAD_VICTIMA', 'GRAVEDAD'],\n",
       "      dtype='object')"
      ]
     },
     "execution_count": 30,
     "metadata": {},
     "output_type": "execute_result"
    }
   ],
   "source": [
    "victimas_lesiones.columns"
   ]
  },
  {
   "cell_type": "markdown",
   "metadata": {},
   "source": [
    "#### (2) PROCESO DE ETL DEL DATAFRAME..."
   ]
  },
  {
   "cell_type": "code",
   "execution_count": 31,
   "metadata": {},
   "outputs": [],
   "source": [
    "# ELIMINACIÓN DE LAS COLUMNAS INNECESARIAS...\n",
    "\n",
    "columnas_a_eliminar = ['FECHA ']\n",
    "victimas_lesiones = victimas_lesiones.drop(columnas_a_eliminar, axis=1)"
   ]
  },
  {
   "cell_type": "code",
   "execution_count": 32,
   "metadata": {},
   "outputs": [],
   "source": [
    "# RENOMBRAR LAS COLUMNAS...\n",
    "\n",
    "nuevos_nombres = {'ID hecho':'ID_HECHO', 'AAA': 'AÑO', 'MM': 'MES', 'DD': 'DIA'}\n",
    "victimas_lesiones = victimas_lesiones.rename(columns=nuevos_nombres)"
   ]
  },
  {
   "cell_type": "code",
   "execution_count": 33,
   "metadata": {},
   "outputs": [],
   "source": [
    "# TRABAJO CON LA COLUMNA \"VEHICULO_VICTIMA\"...\n",
    "\n",
    "victimas_lesiones['VEHICULO_VICTIMA'] = victimas_lesiones['VEHICULO_VICTIMA'].replace(['sd', 'SD'], 'MOTO')"
   ]
  },
  {
   "cell_type": "code",
   "execution_count": 34,
   "metadata": {},
   "outputs": [],
   "source": [
    "# TRABAJO CON LA COLUMNA \"SEXO\"...\n",
    "\n",
    "# Normalización de valores\n",
    "valor_a_cambiar = ['varon', 'Varon', 'mujer', 'Mujer', 'Mujer ']\n",
    "nuevo_valor = ['VARON', 'VARON', 'MUJER', 'MUJER', 'MUJER']\n",
    "victimas_lesiones['SEXO'] = victimas_lesiones['SEXO'].replace(valor_a_cambiar, nuevo_valor)\n",
    "\n",
    "# REemplazo de valores\n",
    "victimas_lesiones['SEXO'] = victimas_lesiones['SEXO'].replace(['sd', 'SD'], 'VARON')"
   ]
  },
  {
   "cell_type": "code",
   "execution_count": 35,
   "metadata": {},
   "outputs": [],
   "source": [
    "# TRABAJO CON LA COLUMNA \"EDAD_VICTIMA\"...\n",
    "\n",
    "victimas_lesiones['EDAD_VICTIMA'] = victimas_lesiones['EDAD_VICTIMA'].replace(['sd', 'SD'], 29)\n",
    "\n",
    "victimas_lesiones['EDAD_VICTIMA'] = victimas_lesiones['EDAD_VICTIMA'].apply(lambda x: int(x) if pd.notna(x) and isinstance(x, str) and x.isdigit() else x)"
   ]
  },
  {
   "cell_type": "code",
   "execution_count": 36,
   "metadata": {},
   "outputs": [],
   "source": [
    "# TRABAJO CON LA COLUMNA \"GRAVEDAD\"...\n",
    "\n",
    "# Normalización de valores\n",
    "valor_a_cambiar = ['grave']\n",
    "nuevo_valor = ['GRAVE']\n",
    "victimas_lesiones['GRAVEDAD'] = victimas_lesiones['GRAVEDAD'].replace(valor_a_cambiar, nuevo_valor)\n",
    "\n",
    "# REemplazo de valores\n",
    "victimas_lesiones['GRAVEDAD'] = victimas_lesiones['GRAVEDAD'].replace(['sd', 'SD'], 'GRAVE')"
   ]
  },
  {
   "cell_type": "code",
   "execution_count": 37,
   "metadata": {},
   "outputs": [],
   "source": [
    "# NORMALIZACIÓN DE LOS DATOS DE LAS COLUMNAS EN UN SOLO TIPO DE DATOS...\n",
    "\n",
    "victimas_lesiones['VEHICULO_VICTIMA'] = victimas_lesiones['VEHICULO_VICTIMA'].astype(str)\n",
    "victimas_lesiones['SEXO'] = victimas_lesiones['SEXO'].astype(str)\n",
    "victimas_lesiones['GRAVEDAD'] = victimas_lesiones['GRAVEDAD'].astype(str)"
   ]
  },
  {
   "cell_type": "code",
   "execution_count": 38,
   "metadata": {},
   "outputs": [],
   "source": [
    "# TRATAMIENTO DE VALORES DEL DATAFRAME...\n",
    "\n",
    "# Identificar valores nulos en el DataFrame y contarlos por columna\n",
    "valores_nulos = victimas_lesiones.isnull().sum()\n",
    "\n",
    "# Identificar valores faltantes (en blanco) en el DataFrame y contarlos por columna\n",
    "valores_faltantes = (victimas_lesiones == '').sum()\n",
    "\n",
    "# Identificar valores iguales a \"SD\" en el DataFrame y contarlos por columna\n",
    "valores_SD = (victimas_lesiones == 'SD').sum()\n",
    "\n",
    "# Identificar valores iguales a \"sd\" en el DataFrame y contarlos por columna\n",
    "valores_sd = (victimas_lesiones == 'sd').sum()\n",
    "\n",
    "# Calcular porcentajes\n",
    "porcentaje_nulos = (valores_nulos / len(victimas_lesiones)) * 100\n",
    "porcentaje_faltantes = (valores_faltantes / len(victimas_lesiones)) * 100\n",
    "porcentaje_SD = (valores_SD / len(victimas_lesiones)) * 100\n",
    "porcentaje_sd = (valores_sd / len(victimas_lesiones)) * 100\n",
    "\n",
    "# Crear un DataFrame con los resultados\n",
    "resultados_datos_victimas_lesiones = pd.DataFrame({\n",
    "    'Valores Nulos': valores_nulos,\n",
    "    'Porcentaje Nulos': porcentaje_nulos,\n",
    "    'Valores Faltantes': valores_faltantes,\n",
    "    'Porcentaje Faltantes': porcentaje_faltantes,\n",
    "    'Valores \"SD\"': valores_SD,\n",
    "    'Porcentaje \"SD\"': porcentaje_SD,\n",
    "    'Valores \"sd\"': valores_sd,\n",
    "    'Porcentaje \"sd\"': porcentaje_sd\n",
    "})"
   ]
  },
  {
   "cell_type": "code",
   "execution_count": 39,
   "metadata": {},
   "outputs": [
    {
     "data": {
      "text/html": [
       "<div>\n",
       "<style scoped>\n",
       "    .dataframe tbody tr th:only-of-type {\n",
       "        vertical-align: middle;\n",
       "    }\n",
       "\n",
       "    .dataframe tbody tr th {\n",
       "        vertical-align: top;\n",
       "    }\n",
       "\n",
       "    .dataframe thead th {\n",
       "        text-align: right;\n",
       "    }\n",
       "</style>\n",
       "<table border=\"1\" class=\"dataframe\">\n",
       "  <thead>\n",
       "    <tr style=\"text-align: right;\">\n",
       "      <th></th>\n",
       "      <th>Valores Nulos</th>\n",
       "      <th>Porcentaje Nulos</th>\n",
       "      <th>Valores Faltantes</th>\n",
       "      <th>Porcentaje Faltantes</th>\n",
       "      <th>Valores \"SD\"</th>\n",
       "      <th>Porcentaje \"SD\"</th>\n",
       "      <th>Valores \"sd\"</th>\n",
       "      <th>Porcentaje \"sd\"</th>\n",
       "    </tr>\n",
       "  </thead>\n",
       "  <tbody>\n",
       "    <tr>\n",
       "      <th>ID_HECHO</th>\n",
       "      <td>0</td>\n",
       "      <td>0.0</td>\n",
       "      <td>0</td>\n",
       "      <td>0.0</td>\n",
       "      <td>0</td>\n",
       "      <td>0.0</td>\n",
       "      <td>0</td>\n",
       "      <td>0.0</td>\n",
       "    </tr>\n",
       "    <tr>\n",
       "      <th>AÑO</th>\n",
       "      <td>0</td>\n",
       "      <td>0.0</td>\n",
       "      <td>0</td>\n",
       "      <td>0.0</td>\n",
       "      <td>0</td>\n",
       "      <td>0.0</td>\n",
       "      <td>0</td>\n",
       "      <td>0.0</td>\n",
       "    </tr>\n",
       "    <tr>\n",
       "      <th>MES</th>\n",
       "      <td>0</td>\n",
       "      <td>0.0</td>\n",
       "      <td>0</td>\n",
       "      <td>0.0</td>\n",
       "      <td>0</td>\n",
       "      <td>0.0</td>\n",
       "      <td>0</td>\n",
       "      <td>0.0</td>\n",
       "    </tr>\n",
       "    <tr>\n",
       "      <th>DIA</th>\n",
       "      <td>0</td>\n",
       "      <td>0.0</td>\n",
       "      <td>0</td>\n",
       "      <td>0.0</td>\n",
       "      <td>0</td>\n",
       "      <td>0.0</td>\n",
       "      <td>0</td>\n",
       "      <td>0.0</td>\n",
       "    </tr>\n",
       "    <tr>\n",
       "      <th>VEHICULO_VICTIMA</th>\n",
       "      <td>0</td>\n",
       "      <td>0.0</td>\n",
       "      <td>0</td>\n",
       "      <td>0.0</td>\n",
       "      <td>0</td>\n",
       "      <td>0.0</td>\n",
       "      <td>0</td>\n",
       "      <td>0.0</td>\n",
       "    </tr>\n",
       "    <tr>\n",
       "      <th>SEXO</th>\n",
       "      <td>0</td>\n",
       "      <td>0.0</td>\n",
       "      <td>0</td>\n",
       "      <td>0.0</td>\n",
       "      <td>0</td>\n",
       "      <td>0.0</td>\n",
       "      <td>0</td>\n",
       "      <td>0.0</td>\n",
       "    </tr>\n",
       "    <tr>\n",
       "      <th>EDAD_VICTIMA</th>\n",
       "      <td>0</td>\n",
       "      <td>0.0</td>\n",
       "      <td>0</td>\n",
       "      <td>0.0</td>\n",
       "      <td>0</td>\n",
       "      <td>0.0</td>\n",
       "      <td>0</td>\n",
       "      <td>0.0</td>\n",
       "    </tr>\n",
       "    <tr>\n",
       "      <th>GRAVEDAD</th>\n",
       "      <td>0</td>\n",
       "      <td>0.0</td>\n",
       "      <td>0</td>\n",
       "      <td>0.0</td>\n",
       "      <td>0</td>\n",
       "      <td>0.0</td>\n",
       "      <td>0</td>\n",
       "      <td>0.0</td>\n",
       "    </tr>\n",
       "  </tbody>\n",
       "</table>\n",
       "</div>"
      ],
      "text/plain": [
       "                  Valores Nulos  Porcentaje Nulos  Valores Faltantes  \\\n",
       "ID_HECHO                      0               0.0                  0   \n",
       "AÑO                           0               0.0                  0   \n",
       "MES                           0               0.0                  0   \n",
       "DIA                           0               0.0                  0   \n",
       "VEHICULO_VICTIMA              0               0.0                  0   \n",
       "SEXO                          0               0.0                  0   \n",
       "EDAD_VICTIMA                  0               0.0                  0   \n",
       "GRAVEDAD                      0               0.0                  0   \n",
       "\n",
       "                  Porcentaje Faltantes  Valores \"SD\"  Porcentaje \"SD\"  \\\n",
       "ID_HECHO                           0.0             0              0.0   \n",
       "AÑO                                0.0             0              0.0   \n",
       "MES                                0.0             0              0.0   \n",
       "DIA                                0.0             0              0.0   \n",
       "VEHICULO_VICTIMA                   0.0             0              0.0   \n",
       "SEXO                               0.0             0              0.0   \n",
       "EDAD_VICTIMA                       0.0             0              0.0   \n",
       "GRAVEDAD                           0.0             0              0.0   \n",
       "\n",
       "                  Valores \"sd\"  Porcentaje \"sd\"  \n",
       "ID_HECHO                     0              0.0  \n",
       "AÑO                          0              0.0  \n",
       "MES                          0              0.0  \n",
       "DIA                          0              0.0  \n",
       "VEHICULO_VICTIMA             0              0.0  \n",
       "SEXO                         0              0.0  \n",
       "EDAD_VICTIMA                 0              0.0  \n",
       "GRAVEDAD                     0              0.0  "
      ]
     },
     "execution_count": 39,
     "metadata": {},
     "output_type": "execute_result"
    }
   ],
   "source": [
    "resultados_datos_victimas_lesiones"
   ]
  },
  {
   "cell_type": "markdown",
   "metadata": {},
   "source": [
    "## 5 - PROCESO DE ALMACENAMIENTO DE LOS DATOS LIMPIOS..."
   ]
  },
  {
   "cell_type": "code",
   "execution_count": 40,
   "metadata": {},
   "outputs": [],
   "source": [
    "# Especifica la ruta del directorio donde deseas guardar los DataFrames en formato Parquet\n",
    "carpeta_DATASET_LIMPIO = 'dataset_limpio'\n",
    "\n",
    "# Verifica si la carpeta ya existe, si no, créala\n",
    "if not os.path.exists(carpeta_DATASET_LIMPIO):\n",
    "    os.makedirs(carpeta_DATASET_LIMPIO)\n",
    "\n",
    "# Guarda los DataFrames en archivos Parquet\n",
    "hechos_lesiones.to_parquet(os.path.join(carpeta_DATASET_LIMPIO, \"hechos_lesiones.parquet\"))\n",
    "victimas_lesiones.to_parquet(os.path.join(carpeta_DATASET_LIMPIO, \"victimas_lesiones.parquet\"))"
   ]
  }
 ],
 "metadata": {
  "kernelspec": {
   "display_name": "venv",
   "language": "python",
   "name": "python3"
  },
  "language_info": {
   "codemirror_mode": {
    "name": "ipython",
    "version": 3
   },
   "file_extension": ".py",
   "mimetype": "text/x-python",
   "name": "python",
   "nbconvert_exporter": "python",
   "pygments_lexer": "ipython3",
   "version": "3.11.5"
  }
 },
 "nbformat": 4,
 "nbformat_minor": 2
}
