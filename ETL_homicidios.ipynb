{
 "cells": [
  {
   "cell_type": "markdown",
   "metadata": {},
   "source": [
    "# PROCESO DE EXTRACCIÓN - TRANSFORMACIÓN - LIMPIEZA DE LOS REGISTROS DE ACCIDENTES OCURRIDOS EN LA CIUDAD DE BUENOS AIRES"
   ]
  },
  {
   "cell_type": "markdown",
   "metadata": {},
   "source": [
    "## 1 - DESCARGA DE LOS DATASETS PARA EL PROCESO..."
   ]
  },
  {
   "cell_type": "markdown",
   "metadata": {},
   "source": [
    "url = https://data.buenosaires.gob.ar/dataset/victimas-siniestros-viales"
   ]
  },
  {
   "cell_type": "markdown",
   "metadata": {},
   "source": [
    "## 2 - IMPORTACIÓN DE LAS LIBRERIAS PARA EL PROCESO..."
   ]
  },
  {
   "cell_type": "code",
   "execution_count": 2,
   "metadata": {},
   "outputs": [],
   "source": [
    "import os\n",
    "import pandas as pd\n",
    "from datetime import datetime, time\n",
    "from datetime import datetime, time, timedelta\n",
    "import numpy as np"
   ]
  },
  {
   "cell_type": "markdown",
   "metadata": {},
   "source": [
    "## 3 - EXPLORACIÓN INICIAL DE LOS ARCHIVOS CON FORMATO .xlsx Y CREACIÓN DE LOS DATAFRAMES PARA EL PROCESO DE ETL..."
   ]
  },
  {
   "cell_type": "code",
   "execution_count": 3,
   "metadata": {},
   "outputs": [
    {
     "name": "stdout",
     "output_type": "stream",
     "text": [
      "Hojas en el archivo 'homicidios.xlsx':\n",
      "['HECHOS', 'DICCIONARIO_HECHOS', 'VICTIMAS', 'DICCIONARIO_VICTIMAS', 'clas']\n",
      "\n",
      "Hojas en el archivo 'lesiones.xlsx':\n",
      "['HECHOS', 'DICCIONARIO_HECHOS', 'VICTIMAS', 'DICCIONARIO_VICTIMAS']\n"
     ]
    }
   ],
   "source": [
    "# LECTURA DE LOS ARCHIVOS...\n",
    "\n",
    "# Ruta de la carpeta que contiene los archivos\n",
    "carpeta_dataset = \"DATASET_BRUTO\"\n",
    "\n",
    "# Nombre de los archivos\n",
    "archivo_homicidios = \"homicidios.xlsx\"\n",
    "archivo_lesiones = \"lesiones.xlsx\"\n",
    "\n",
    "# Ruta completa de los archivos\n",
    "ruta_homicidios = os.path.join(carpeta_dataset, archivo_homicidios)\n",
    "ruta_lesiones = os.path.join(carpeta_dataset, archivo_lesiones)\n",
    "\n",
    "# Obtener nombres de las hojas en el archivo 'homicidios.xlsx'\n",
    "hojas_homicidios = pd.ExcelFile(ruta_homicidios).sheet_names\n",
    "\n",
    "# Obtener nombres de las hojas en el archivo 'lesiones.xlsx'\n",
    "hojas_lesiones = pd.ExcelFile(ruta_lesiones).sheet_names\n",
    "\n",
    "# Imprimir en pantalla los nombres de las hojas\n",
    "print(\"Hojas en el archivo 'homicidios.xlsx':\")\n",
    "print(hojas_homicidios)\n",
    "\n",
    "print(\"\\nHojas en el archivo 'lesiones.xlsx':\")\n",
    "print(hojas_lesiones)"
   ]
  },
  {
   "cell_type": "code",
   "execution_count": 4,
   "metadata": {},
   "outputs": [
    {
     "name": "stdout",
     "output_type": "stream",
     "text": [
      "EL PROCESO EN EL ARCHIVO homicidios.xlsx SE EJECUTÓ CON ÉXITO...\n"
     ]
    }
   ],
   "source": [
    "# CREACIÓN DE LOS DATAFRAMES CORRESPONDIENTES AL ARCHIVO \"homicidios.xlsx\"\n",
    "\n",
    "# Ruta del archivo\n",
    "archivo_excel = 'DATASET_BRUTO/homicidios.xlsx'\n",
    "\n",
    "# Lee la hoja 'HECHOS' del archivo Excel en un DataFrame\n",
    "try:\n",
    "    hechos_homicidios = pd.read_excel(archivo_excel, sheet_name='HECHOS')\n",
    "    diccionario_hechos_homicidios = pd.read_excel(archivo_excel, sheet_name='DICCIONARIO_HECHOS')\n",
    "    victimas_homicidios = pd.read_excel(archivo_excel, sheet_name='VICTIMAS')\n",
    "    diccionario_victimas_homicidios = pd.read_excel(archivo_excel, sheet_name='DICCIONARIO_VICTIMAS')\n",
    "    clas_homicidios = pd.read_excel(archivo_excel, sheet_name='clas')\n",
    "except Exception as e:\n",
    "    print(f\"Error al leer el archivo: {e}\")\n",
    "\n",
    "print(\"EL PROCESO EN EL ARCHIVO homicidios.xlsx SE EJECUTÓ CON ÉXITO...\")"
   ]
  },
  {
   "cell_type": "markdown",
   "metadata": {},
   "source": [
    "## 4 - PROCESO DE ETL PARA EL ARCHIVO homicidios.xlsx..."
   ]
  },
  {
   "cell_type": "markdown",
   "metadata": {},
   "source": [
    "En esta parte del proceso se tiene disponible los siguientes DATAFRAMES que resultaron del archivo \"homicidios.xlsx\". Los dataframes mencionados son:\n",
    "\n",
    "* hechos_homicidios\n",
    "* diccionario_hechos_homicidios\n",
    "* victimas_homicidios\n",
    "* diccionario_victimas_homicidios\n",
    "* clas_homicidios\n",
    "\n",
    "De estos dataframes, solo se utilizará el denominado \"hechos_homicidios\" y \"victimas_homicidios\"."
   ]
  },
  {
   "cell_type": "markdown",
   "metadata": {},
   "source": [
    "### a. DATAFRAME \"HECHOS_HOMICIDIOS\"..."
   ]
  },
  {
   "cell_type": "markdown",
   "metadata": {},
   "source": [
    "#### (1) EXPLORACIÓN INICIAL..."
   ]
  },
  {
   "cell_type": "code",
   "execution_count": 5,
   "metadata": {},
   "outputs": [
    {
     "data": {
      "text/html": [
       "<div>\n",
       "<style scoped>\n",
       "    .dataframe tbody tr th:only-of-type {\n",
       "        vertical-align: middle;\n",
       "    }\n",
       "\n",
       "    .dataframe tbody tr th {\n",
       "        vertical-align: top;\n",
       "    }\n",
       "\n",
       "    .dataframe thead th {\n",
       "        text-align: right;\n",
       "    }\n",
       "</style>\n",
       "<table border=\"1\" class=\"dataframe\">\n",
       "  <thead>\n",
       "    <tr style=\"text-align: right;\">\n",
       "      <th></th>\n",
       "      <th>ID</th>\n",
       "      <th>N_VICTIMAS</th>\n",
       "      <th>FECHA</th>\n",
       "      <th>AAAA</th>\n",
       "      <th>MM</th>\n",
       "      <th>DD</th>\n",
       "      <th>HORA</th>\n",
       "      <th>HH</th>\n",
       "      <th>LUGAR_DEL_HECHO</th>\n",
       "      <th>TIPO_DE_CALLE</th>\n",
       "      <th>...</th>\n",
       "      <th>Altura</th>\n",
       "      <th>Cruce</th>\n",
       "      <th>Dirección Normalizada</th>\n",
       "      <th>COMUNA</th>\n",
       "      <th>XY (CABA)</th>\n",
       "      <th>pos x</th>\n",
       "      <th>pos y</th>\n",
       "      <th>PARTICIPANTES</th>\n",
       "      <th>VICTIMA</th>\n",
       "      <th>ACUSADO</th>\n",
       "    </tr>\n",
       "  </thead>\n",
       "  <tbody>\n",
       "    <tr>\n",
       "      <th>0</th>\n",
       "      <td>2016-0001</td>\n",
       "      <td>1</td>\n",
       "      <td>2016-01-01</td>\n",
       "      <td>2016</td>\n",
       "      <td>1</td>\n",
       "      <td>1</td>\n",
       "      <td>04:00:00</td>\n",
       "      <td>4</td>\n",
       "      <td>AV PIEDRA BUENA Y AV FERNANDEZ DE LA CRUZ</td>\n",
       "      <td>AVENIDA</td>\n",
       "      <td>...</td>\n",
       "      <td>NaN</td>\n",
       "      <td>FERNANDEZ DE LA CRUZ, F., GRAL. AV.</td>\n",
       "      <td>PIEDRA BUENA AV. y FERNANDEZ DE LA CRUZ, F., G...</td>\n",
       "      <td>8</td>\n",
       "      <td>Point (98896.78238426 93532.43437792)</td>\n",
       "      <td>-5847533969</td>\n",
       "      <td>-3468757022</td>\n",
       "      <td>MOTO-AUTO</td>\n",
       "      <td>MOTO</td>\n",
       "      <td>AUTO</td>\n",
       "    </tr>\n",
       "    <tr>\n",
       "      <th>1</th>\n",
       "      <td>2016-0002</td>\n",
       "      <td>1</td>\n",
       "      <td>2016-01-02</td>\n",
       "      <td>2016</td>\n",
       "      <td>1</td>\n",
       "      <td>2</td>\n",
       "      <td>01:15:00</td>\n",
       "      <td>1</td>\n",
       "      <td>AV GRAL PAZ  Y AV DE LOS CORRALES</td>\n",
       "      <td>GRAL PAZ</td>\n",
       "      <td>...</td>\n",
       "      <td>NaN</td>\n",
       "      <td>DE LOS CORRALES AV.</td>\n",
       "      <td>PAZ, GRAL. AV. y DE LOS CORRALES AV.</td>\n",
       "      <td>9</td>\n",
       "      <td>Point (95832.05571093 95505.41641999)</td>\n",
       "      <td>-5850877521</td>\n",
       "      <td>-3466977709</td>\n",
       "      <td>AUTO-PASAJEROS</td>\n",
       "      <td>AUTO</td>\n",
       "      <td>PASAJEROS</td>\n",
       "    </tr>\n",
       "    <tr>\n",
       "      <th>2</th>\n",
       "      <td>2016-0003</td>\n",
       "      <td>1</td>\n",
       "      <td>2016-01-03</td>\n",
       "      <td>2016</td>\n",
       "      <td>1</td>\n",
       "      <td>3</td>\n",
       "      <td>07:00:00</td>\n",
       "      <td>7</td>\n",
       "      <td>AV ENTRE RIOS 2034</td>\n",
       "      <td>AVENIDA</td>\n",
       "      <td>...</td>\n",
       "      <td>2034.0</td>\n",
       "      <td>NaN</td>\n",
       "      <td>ENTRE RIOS AV. 2034</td>\n",
       "      <td>1</td>\n",
       "      <td>Point (106684.29090040 99706.57687843)</td>\n",
       "      <td>-5839040293</td>\n",
       "      <td>-3463189362</td>\n",
       "      <td>MOTO-AUTO</td>\n",
       "      <td>MOTO</td>\n",
       "      <td>AUTO</td>\n",
       "    </tr>\n",
       "    <tr>\n",
       "      <th>3</th>\n",
       "      <td>2016-0004</td>\n",
       "      <td>1</td>\n",
       "      <td>2016-01-10</td>\n",
       "      <td>2016</td>\n",
       "      <td>1</td>\n",
       "      <td>10</td>\n",
       "      <td>00:00:00</td>\n",
       "      <td>0</td>\n",
       "      <td>AV LARRAZABAL Y GRAL VILLEGAS CONRADO</td>\n",
       "      <td>AVENIDA</td>\n",
       "      <td>...</td>\n",
       "      <td>NaN</td>\n",
       "      <td>VILLEGAS, CONRADO, GRAL.</td>\n",
       "      <td>LARRAZABAL AV. y VILLEGAS, CONRADO, GRAL.</td>\n",
       "      <td>8</td>\n",
       "      <td>Point (99840.65224780 94269.16534422)</td>\n",
       "      <td>-5846503904</td>\n",
       "      <td>-3468092974</td>\n",
       "      <td>MOTO-SD</td>\n",
       "      <td>MOTO</td>\n",
       "      <td>SD</td>\n",
       "    </tr>\n",
       "    <tr>\n",
       "      <th>4</th>\n",
       "      <td>2016-0005</td>\n",
       "      <td>1</td>\n",
       "      <td>2016-01-21</td>\n",
       "      <td>2016</td>\n",
       "      <td>1</td>\n",
       "      <td>21</td>\n",
       "      <td>05:20:00</td>\n",
       "      <td>5</td>\n",
       "      <td>AV SAN JUAN Y PRESIDENTE LUIS SAENZ PEÑA</td>\n",
       "      <td>AVENIDA</td>\n",
       "      <td>...</td>\n",
       "      <td>NaN</td>\n",
       "      <td>SAENZ PE?A, LUIS, PRES.</td>\n",
       "      <td>SAN JUAN AV. y SAENZ PEÃ‘A, LUIS, PRES.</td>\n",
       "      <td>1</td>\n",
       "      <td>Point (106980.32827929 100752.16915795)</td>\n",
       "      <td>-5838718297</td>\n",
       "      <td>-3462246630</td>\n",
       "      <td>MOTO-PASAJEROS</td>\n",
       "      <td>MOTO</td>\n",
       "      <td>PASAJEROS</td>\n",
       "    </tr>\n",
       "  </tbody>\n",
       "</table>\n",
       "<p>5 rows × 21 columns</p>\n",
       "</div>"
      ],
      "text/plain": [
       "          ID  N_VICTIMAS      FECHA  AAAA  MM  DD      HORA HH  \\\n",
       "0  2016-0001           1 2016-01-01  2016   1   1  04:00:00  4   \n",
       "1  2016-0002           1 2016-01-02  2016   1   2  01:15:00  1   \n",
       "2  2016-0003           1 2016-01-03  2016   1   3  07:00:00  7   \n",
       "3  2016-0004           1 2016-01-10  2016   1  10  00:00:00  0   \n",
       "4  2016-0005           1 2016-01-21  2016   1  21  05:20:00  5   \n",
       "\n",
       "                             LUGAR_DEL_HECHO TIPO_DE_CALLE  ...  Altura  \\\n",
       "0  AV PIEDRA BUENA Y AV FERNANDEZ DE LA CRUZ       AVENIDA  ...     NaN   \n",
       "1          AV GRAL PAZ  Y AV DE LOS CORRALES      GRAL PAZ  ...     NaN   \n",
       "2                         AV ENTRE RIOS 2034       AVENIDA  ...  2034.0   \n",
       "3      AV LARRAZABAL Y GRAL VILLEGAS CONRADO       AVENIDA  ...     NaN   \n",
       "4  AV SAN JUAN Y PRESIDENTE LUIS SAENZ PEÑA        AVENIDA  ...     NaN   \n",
       "\n",
       "                                 Cruce  \\\n",
       "0  FERNANDEZ DE LA CRUZ, F., GRAL. AV.   \n",
       "1                  DE LOS CORRALES AV.   \n",
       "2                                  NaN   \n",
       "3             VILLEGAS, CONRADO, GRAL.   \n",
       "4              SAENZ PE?A, LUIS, PRES.   \n",
       "\n",
       "                               Dirección Normalizada COMUNA  \\\n",
       "0  PIEDRA BUENA AV. y FERNANDEZ DE LA CRUZ, F., G...      8   \n",
       "1               PAZ, GRAL. AV. y DE LOS CORRALES AV.      9   \n",
       "2                                ENTRE RIOS AV. 2034      1   \n",
       "3          LARRAZABAL AV. y VILLEGAS, CONRADO, GRAL.      8   \n",
       "4            SAN JUAN AV. y SAENZ PEÃ‘A, LUIS, PRES.      1   \n",
       "\n",
       "                                 XY (CABA)        pos x        pos y  \\\n",
       "0    Point (98896.78238426 93532.43437792)  -5847533969  -3468757022   \n",
       "1    Point (95832.05571093 95505.41641999)  -5850877521  -3466977709   \n",
       "2   Point (106684.29090040 99706.57687843)  -5839040293  -3463189362   \n",
       "3    Point (99840.65224780 94269.16534422)  -5846503904  -3468092974   \n",
       "4  Point (106980.32827929 100752.16915795)  -5838718297  -3462246630   \n",
       "\n",
       "    PARTICIPANTES VICTIMA    ACUSADO  \n",
       "0       MOTO-AUTO    MOTO       AUTO  \n",
       "1  AUTO-PASAJEROS    AUTO  PASAJEROS  \n",
       "2       MOTO-AUTO    MOTO       AUTO  \n",
       "3         MOTO-SD    MOTO         SD  \n",
       "4  MOTO-PASAJEROS    MOTO  PASAJEROS  \n",
       "\n",
       "[5 rows x 21 columns]"
      ]
     },
     "execution_count": 5,
     "metadata": {},
     "output_type": "execute_result"
    }
   ],
   "source": [
    "hechos_homicidios.head(5)"
   ]
  },
  {
   "cell_type": "code",
   "execution_count": 6,
   "metadata": {},
   "outputs": [
    {
     "name": "stdout",
     "output_type": "stream",
     "text": [
      "<class 'pandas.core.frame.DataFrame'>\n",
      "RangeIndex: 696 entries, 0 to 695\n",
      "Data columns (total 21 columns):\n",
      " #   Column                 Non-Null Count  Dtype         \n",
      "---  ------                 --------------  -----         \n",
      " 0   ID                     696 non-null    object        \n",
      " 1   N_VICTIMAS             696 non-null    int64         \n",
      " 2   FECHA                  696 non-null    datetime64[ns]\n",
      " 3   AAAA                   696 non-null    int64         \n",
      " 4   MM                     696 non-null    int64         \n",
      " 5   DD                     696 non-null    int64         \n",
      " 6   HORA                   696 non-null    object        \n",
      " 7   HH                     696 non-null    object        \n",
      " 8   LUGAR_DEL_HECHO        696 non-null    object        \n",
      " 9   TIPO_DE_CALLE          696 non-null    object        \n",
      " 10  Calle                  695 non-null    object        \n",
      " 11  Altura                 129 non-null    float64       \n",
      " 12  Cruce                  525 non-null    object        \n",
      " 13  Dirección Normalizada  688 non-null    object        \n",
      " 14  COMUNA                 696 non-null    int64         \n",
      " 15  XY (CABA)              696 non-null    object        \n",
      " 16  pos x                  696 non-null    object        \n",
      " 17  pos y                  696 non-null    object        \n",
      " 18  PARTICIPANTES          696 non-null    object        \n",
      " 19  VICTIMA                696 non-null    object        \n",
      " 20  ACUSADO                696 non-null    object        \n",
      "dtypes: datetime64[ns](1), float64(1), int64(5), object(14)\n",
      "memory usage: 114.3+ KB\n"
     ]
    }
   ],
   "source": [
    "hechos_homicidios.info()"
   ]
  },
  {
   "cell_type": "code",
   "execution_count": 7,
   "metadata": {},
   "outputs": [
    {
     "data": {
      "text/plain": [
       "ID                               object\n",
       "N_VICTIMAS                        int64\n",
       "FECHA                    datetime64[ns]\n",
       "AAAA                              int64\n",
       "MM                                int64\n",
       "DD                                int64\n",
       "HORA                             object\n",
       "HH                               object\n",
       "LUGAR_DEL_HECHO                  object\n",
       "TIPO_DE_CALLE                    object\n",
       "Calle                            object\n",
       "Altura                          float64\n",
       "Cruce                            object\n",
       "Dirección Normalizada            object\n",
       "COMUNA                            int64\n",
       "XY (CABA)                        object\n",
       "pos x                            object\n",
       "pos y                            object\n",
       "PARTICIPANTES                    object\n",
       "VICTIMA                          object\n",
       "ACUSADO                          object\n",
       "dtype: object"
      ]
     },
     "execution_count": 7,
     "metadata": {},
     "output_type": "execute_result"
    }
   ],
   "source": [
    "hechos_homicidios.dtypes"
   ]
  },
  {
   "cell_type": "code",
   "execution_count": 8,
   "metadata": {},
   "outputs": [
    {
     "data": {
      "text/plain": [
       "(696, 21)"
      ]
     },
     "execution_count": 8,
     "metadata": {},
     "output_type": "execute_result"
    }
   ],
   "source": [
    "hechos_homicidios.shape"
   ]
  },
  {
   "cell_type": "code",
   "execution_count": 9,
   "metadata": {},
   "outputs": [
    {
     "data": {
      "text/plain": [
       "ID                         0\n",
       "N_VICTIMAS                 0\n",
       "FECHA                      0\n",
       "AAAA                       0\n",
       "MM                         0\n",
       "DD                         0\n",
       "HORA                       0\n",
       "HH                         0\n",
       "LUGAR_DEL_HECHO            0\n",
       "TIPO_DE_CALLE              0\n",
       "Calle                      1\n",
       "Altura                   567\n",
       "Cruce                    171\n",
       "Dirección Normalizada      8\n",
       "COMUNA                     0\n",
       "XY (CABA)                  0\n",
       "pos x                      0\n",
       "pos y                      0\n",
       "PARTICIPANTES              0\n",
       "VICTIMA                    0\n",
       "ACUSADO                    0\n",
       "dtype: int64"
      ]
     },
     "execution_count": 9,
     "metadata": {},
     "output_type": "execute_result"
    }
   ],
   "source": [
    "hechos_homicidios.isnull().sum()"
   ]
  },
  {
   "cell_type": "code",
   "execution_count": 10,
   "metadata": {},
   "outputs": [
    {
     "data": {
      "text/plain": [
       "Index(['ID', 'N_VICTIMAS', 'FECHA', 'AAAA', 'MM', 'DD', 'HORA', 'HH',\n",
       "       'LUGAR_DEL_HECHO', 'TIPO_DE_CALLE', 'Calle', 'Altura', 'Cruce',\n",
       "       'Dirección Normalizada', 'COMUNA', 'XY (CABA)', 'pos x', 'pos y',\n",
       "       'PARTICIPANTES', 'VICTIMA', 'ACUSADO'],\n",
       "      dtype='object')"
      ]
     },
     "execution_count": 10,
     "metadata": {},
     "output_type": "execute_result"
    }
   ],
   "source": [
    "hechos_homicidios.columns"
   ]
  },
  {
   "cell_type": "markdown",
   "metadata": {},
   "source": [
    "#### (2) PROCESO DE ETL DEL DATAFRAME..."
   ]
  },
  {
   "cell_type": "code",
   "execution_count": 11,
   "metadata": {},
   "outputs": [],
   "source": [
    "# ELIMINACIÓN DE LAS COLUMNAS INNECESARIAS...\n",
    "\n",
    "columnas_a_eliminar = ['FECHA', 'HORA', 'Calle', 'Altura', 'Cruce', 'Dirección Normalizada', 'XY (CABA)', 'PARTICIPANTES']\n",
    "hechos_homicidios = hechos_homicidios.drop(columnas_a_eliminar, axis=1)"
   ]
  },
  {
   "cell_type": "code",
   "execution_count": 12,
   "metadata": {},
   "outputs": [],
   "source": [
    "# RENOMBRAR LAS COLUMNAS...\n",
    "\n",
    "nuevos_nombres = {'N_VICTIMAS':'NUMERO_DE_VICTIMAS', 'AAAA': 'AÑO', 'MM': 'MES', 'DD': 'DIA', 'HH': 'FRANJA_HORARIA', 'Altura': 'ALTURA'}\n",
    "hechos_homicidios = hechos_homicidios.rename(columns=nuevos_nombres)"
   ]
  },
  {
   "cell_type": "code",
   "execution_count": 13,
   "metadata": {},
   "outputs": [],
   "source": [
    "# NORMALIZACIÓN DE LOS DATOS DE LAS COLUMNAS EN UN SOLO TIPO DE DATOS...\n",
    "\n",
    "hechos_homicidios['ID'] = hechos_homicidios['ID'].astype(str)\n",
    "hechos_homicidios['LUGAR_DEL_HECHO'] = hechos_homicidios['LUGAR_DEL_HECHO'].astype(str)\n",
    "hechos_homicidios['TIPO_DE_CALLE'] = hechos_homicidios['TIPO_DE_CALLE'].astype(str)\n",
    "hechos_homicidios['VICTIMA'] = hechos_homicidios['VICTIMA'].astype(str)\n",
    "hechos_homicidios['ACUSADO'] = hechos_homicidios['ACUSADO'].astype(str)"
   ]
  },
  {
   "cell_type": "code",
   "execution_count": 14,
   "metadata": {},
   "outputs": [],
   "source": [
    "# TRABAJO CON LA COLUMNA \"FRANJA_HORARIA\"...\n",
    "\n",
    "hechos_homicidios['FRANJA_HORARIA'] = hechos_homicidios['FRANJA_HORARIA'].replace('SD', 6)"
   ]
  },
  {
   "cell_type": "code",
   "execution_count": 15,
   "metadata": {},
   "outputs": [],
   "source": [
    "# TRABAJO CON LA COLUMNA \"LUGAR_DEL_HECHO\"...\n",
    "\n",
    "hechos_homicidios = hechos_homicidios[hechos_homicidios['LUGAR_DEL_HECHO'] != 'SD']"
   ]
  },
  {
   "cell_type": "code",
   "execution_count": 16,
   "metadata": {},
   "outputs": [],
   "source": [
    "# TRABAJO CON LA COLUMNA \"VICTIMA\"...\n",
    "\n",
    "hechos_homicidios['VICTIMA'] = hechos_homicidios['VICTIMA'].replace('SD', 'MOTO')"
   ]
  },
  {
   "cell_type": "code",
   "execution_count": 17,
   "metadata": {},
   "outputs": [],
   "source": [
    "# TRABAJO CON LA COLUMNA \"ACUSADO\"...\n",
    "\n",
    "hechos_homicidios['ACUSADO'] = hechos_homicidios['ACUSADO'].replace('SD', 'AUTO')"
   ]
  },
  {
   "cell_type": "code",
   "execution_count": 18,
   "metadata": {},
   "outputs": [],
   "source": [
    "# TRABAJO CON LA COLUMNA \"pos x\" Y \"pos y\"\n",
    "\n",
    "hechos_homicidios['pos x'] = pd.to_numeric(hechos_homicidios['pos x'], errors='coerce')\n",
    "hechos_homicidios['pos y'] = pd.to_numeric(hechos_homicidios['pos y'], errors='coerce')\n",
    "\n",
    "columnas_a_verificar = ['pos x', 'pos y']\n",
    "\n",
    "hechos_homicidios = hechos_homicidios.dropna(subset=columnas_a_verificar)"
   ]
  },
  {
   "cell_type": "code",
   "execution_count": 19,
   "metadata": {},
   "outputs": [],
   "source": [
    "# TRATAMIENTO DE VALORES DEL DATAFRAME...\n",
    "\n",
    "# Identificar valores nulos en el DataFrame y contarlos por columna\n",
    "valores_nulos = hechos_homicidios.isnull().sum()\n",
    "\n",
    "# Identificar valores faltantes (en blanco) en el DataFrame y contarlos por columna\n",
    "valores_faltantes = (hechos_homicidios == '').sum()\n",
    "\n",
    "# Identificar valores iguales a \"SD\" en el DataFrame y contarlos por columna\n",
    "valores_SD = (hechos_homicidios == 'SD').sum()\n",
    "\n",
    "# Identificar valores iguales a \"sd\" en el DataFrame y contarlos por columna\n",
    "valores_sd = (hechos_homicidios == 'sd').sum()\n",
    "\n",
    "# Calcular porcentajes\n",
    "porcentaje_nulos = (valores_nulos / len(hechos_homicidios)) * 100\n",
    "porcentaje_faltantes = (valores_faltantes / len(hechos_homicidios)) * 100\n",
    "porcentaje_SD = (valores_SD / len(hechos_homicidios)) * 100\n",
    "porcentaje_sd = (valores_sd / len(hechos_homicidios)) * 100\n",
    "\n",
    "# Crear un DataFrame con los resultados\n",
    "resultados_datos_homicidios = pd.DataFrame({\n",
    "    'Valores Nulos': valores_nulos,\n",
    "    'Porcentaje Nulos': porcentaje_nulos,\n",
    "    'Valores Faltantes': valores_faltantes,\n",
    "    'Porcentaje Faltantes': porcentaje_faltantes,\n",
    "    'Valores \"SD\"': valores_SD,\n",
    "    'Porcentaje \"SD\"': porcentaje_SD,\n",
    "    'Valores \"sd\"': valores_sd,\n",
    "    'Porcentaje \"sd\"': porcentaje_sd\n",
    "})"
   ]
  },
  {
   "cell_type": "code",
   "execution_count": 20,
   "metadata": {},
   "outputs": [
    {
     "data": {
      "text/html": [
       "<div>\n",
       "<style scoped>\n",
       "    .dataframe tbody tr th:only-of-type {\n",
       "        vertical-align: middle;\n",
       "    }\n",
       "\n",
       "    .dataframe tbody tr th {\n",
       "        vertical-align: top;\n",
       "    }\n",
       "\n",
       "    .dataframe thead th {\n",
       "        text-align: right;\n",
       "    }\n",
       "</style>\n",
       "<table border=\"1\" class=\"dataframe\">\n",
       "  <thead>\n",
       "    <tr style=\"text-align: right;\">\n",
       "      <th></th>\n",
       "      <th>Valores Nulos</th>\n",
       "      <th>Porcentaje Nulos</th>\n",
       "      <th>Valores Faltantes</th>\n",
       "      <th>Porcentaje Faltantes</th>\n",
       "      <th>Valores \"SD\"</th>\n",
       "      <th>Porcentaje \"SD\"</th>\n",
       "      <th>Valores \"sd\"</th>\n",
       "      <th>Porcentaje \"sd\"</th>\n",
       "    </tr>\n",
       "  </thead>\n",
       "  <tbody>\n",
       "    <tr>\n",
       "      <th>ID</th>\n",
       "      <td>0</td>\n",
       "      <td>0.0</td>\n",
       "      <td>0</td>\n",
       "      <td>0.0</td>\n",
       "      <td>0</td>\n",
       "      <td>0.0</td>\n",
       "      <td>0</td>\n",
       "      <td>0.0</td>\n",
       "    </tr>\n",
       "    <tr>\n",
       "      <th>NUMERO_DE_VICTIMAS</th>\n",
       "      <td>0</td>\n",
       "      <td>0.0</td>\n",
       "      <td>0</td>\n",
       "      <td>0.0</td>\n",
       "      <td>0</td>\n",
       "      <td>0.0</td>\n",
       "      <td>0</td>\n",
       "      <td>0.0</td>\n",
       "    </tr>\n",
       "    <tr>\n",
       "      <th>AÑO</th>\n",
       "      <td>0</td>\n",
       "      <td>0.0</td>\n",
       "      <td>0</td>\n",
       "      <td>0.0</td>\n",
       "      <td>0</td>\n",
       "      <td>0.0</td>\n",
       "      <td>0</td>\n",
       "      <td>0.0</td>\n",
       "    </tr>\n",
       "    <tr>\n",
       "      <th>MES</th>\n",
       "      <td>0</td>\n",
       "      <td>0.0</td>\n",
       "      <td>0</td>\n",
       "      <td>0.0</td>\n",
       "      <td>0</td>\n",
       "      <td>0.0</td>\n",
       "      <td>0</td>\n",
       "      <td>0.0</td>\n",
       "    </tr>\n",
       "    <tr>\n",
       "      <th>DIA</th>\n",
       "      <td>0</td>\n",
       "      <td>0.0</td>\n",
       "      <td>0</td>\n",
       "      <td>0.0</td>\n",
       "      <td>0</td>\n",
       "      <td>0.0</td>\n",
       "      <td>0</td>\n",
       "      <td>0.0</td>\n",
       "    </tr>\n",
       "    <tr>\n",
       "      <th>FRANJA_HORARIA</th>\n",
       "      <td>0</td>\n",
       "      <td>0.0</td>\n",
       "      <td>0</td>\n",
       "      <td>0.0</td>\n",
       "      <td>0</td>\n",
       "      <td>0.0</td>\n",
       "      <td>0</td>\n",
       "      <td>0.0</td>\n",
       "    </tr>\n",
       "    <tr>\n",
       "      <th>LUGAR_DEL_HECHO</th>\n",
       "      <td>0</td>\n",
       "      <td>0.0</td>\n",
       "      <td>0</td>\n",
       "      <td>0.0</td>\n",
       "      <td>0</td>\n",
       "      <td>0.0</td>\n",
       "      <td>0</td>\n",
       "      <td>0.0</td>\n",
       "    </tr>\n",
       "    <tr>\n",
       "      <th>TIPO_DE_CALLE</th>\n",
       "      <td>0</td>\n",
       "      <td>0.0</td>\n",
       "      <td>0</td>\n",
       "      <td>0.0</td>\n",
       "      <td>0</td>\n",
       "      <td>0.0</td>\n",
       "      <td>0</td>\n",
       "      <td>0.0</td>\n",
       "    </tr>\n",
       "    <tr>\n",
       "      <th>COMUNA</th>\n",
       "      <td>0</td>\n",
       "      <td>0.0</td>\n",
       "      <td>0</td>\n",
       "      <td>0.0</td>\n",
       "      <td>0</td>\n",
       "      <td>0.0</td>\n",
       "      <td>0</td>\n",
       "      <td>0.0</td>\n",
       "    </tr>\n",
       "    <tr>\n",
       "      <th>pos x</th>\n",
       "      <td>0</td>\n",
       "      <td>0.0</td>\n",
       "      <td>0</td>\n",
       "      <td>0.0</td>\n",
       "      <td>0</td>\n",
       "      <td>0.0</td>\n",
       "      <td>0</td>\n",
       "      <td>0.0</td>\n",
       "    </tr>\n",
       "    <tr>\n",
       "      <th>pos y</th>\n",
       "      <td>0</td>\n",
       "      <td>0.0</td>\n",
       "      <td>0</td>\n",
       "      <td>0.0</td>\n",
       "      <td>0</td>\n",
       "      <td>0.0</td>\n",
       "      <td>0</td>\n",
       "      <td>0.0</td>\n",
       "    </tr>\n",
       "    <tr>\n",
       "      <th>VICTIMA</th>\n",
       "      <td>0</td>\n",
       "      <td>0.0</td>\n",
       "      <td>0</td>\n",
       "      <td>0.0</td>\n",
       "      <td>0</td>\n",
       "      <td>0.0</td>\n",
       "      <td>0</td>\n",
       "      <td>0.0</td>\n",
       "    </tr>\n",
       "    <tr>\n",
       "      <th>ACUSADO</th>\n",
       "      <td>0</td>\n",
       "      <td>0.0</td>\n",
       "      <td>0</td>\n",
       "      <td>0.0</td>\n",
       "      <td>0</td>\n",
       "      <td>0.0</td>\n",
       "      <td>0</td>\n",
       "      <td>0.0</td>\n",
       "    </tr>\n",
       "  </tbody>\n",
       "</table>\n",
       "</div>"
      ],
      "text/plain": [
       "                    Valores Nulos  Porcentaje Nulos  Valores Faltantes  \\\n",
       "ID                              0               0.0                  0   \n",
       "NUMERO_DE_VICTIMAS              0               0.0                  0   \n",
       "AÑO                             0               0.0                  0   \n",
       "MES                             0               0.0                  0   \n",
       "DIA                             0               0.0                  0   \n",
       "FRANJA_HORARIA                  0               0.0                  0   \n",
       "LUGAR_DEL_HECHO                 0               0.0                  0   \n",
       "TIPO_DE_CALLE                   0               0.0                  0   \n",
       "COMUNA                          0               0.0                  0   \n",
       "pos x                           0               0.0                  0   \n",
       "pos y                           0               0.0                  0   \n",
       "VICTIMA                         0               0.0                  0   \n",
       "ACUSADO                         0               0.0                  0   \n",
       "\n",
       "                    Porcentaje Faltantes  Valores \"SD\"  Porcentaje \"SD\"  \\\n",
       "ID                                   0.0             0              0.0   \n",
       "NUMERO_DE_VICTIMAS                   0.0             0              0.0   \n",
       "AÑO                                  0.0             0              0.0   \n",
       "MES                                  0.0             0              0.0   \n",
       "DIA                                  0.0             0              0.0   \n",
       "FRANJA_HORARIA                       0.0             0              0.0   \n",
       "LUGAR_DEL_HECHO                      0.0             0              0.0   \n",
       "TIPO_DE_CALLE                        0.0             0              0.0   \n",
       "COMUNA                               0.0             0              0.0   \n",
       "pos x                                0.0             0              0.0   \n",
       "pos y                                0.0             0              0.0   \n",
       "VICTIMA                              0.0             0              0.0   \n",
       "ACUSADO                              0.0             0              0.0   \n",
       "\n",
       "                    Valores \"sd\"  Porcentaje \"sd\"  \n",
       "ID                             0              0.0  \n",
       "NUMERO_DE_VICTIMAS             0              0.0  \n",
       "AÑO                            0              0.0  \n",
       "MES                            0              0.0  \n",
       "DIA                            0              0.0  \n",
       "FRANJA_HORARIA                 0              0.0  \n",
       "LUGAR_DEL_HECHO                0              0.0  \n",
       "TIPO_DE_CALLE                  0              0.0  \n",
       "COMUNA                         0              0.0  \n",
       "pos x                          0              0.0  \n",
       "pos y                          0              0.0  \n",
       "VICTIMA                        0              0.0  \n",
       "ACUSADO                        0              0.0  "
      ]
     },
     "execution_count": 20,
     "metadata": {},
     "output_type": "execute_result"
    }
   ],
   "source": [
    "resultados_datos_homicidios"
   ]
  },
  {
   "cell_type": "markdown",
   "metadata": {},
   "source": [
    "### b. EXPLORACIÓN INICIAL DEL DATAFRAME \"VICTIMAS_HOMICIDIOS\"..."
   ]
  },
  {
   "cell_type": "markdown",
   "metadata": {},
   "source": [
    "#### (1) EXPLORACIÓN INICIAL..."
   ]
  },
  {
   "cell_type": "code",
   "execution_count": 21,
   "metadata": {},
   "outputs": [
    {
     "data": {
      "text/html": [
       "<div>\n",
       "<style scoped>\n",
       "    .dataframe tbody tr th:only-of-type {\n",
       "        vertical-align: middle;\n",
       "    }\n",
       "\n",
       "    .dataframe tbody tr th {\n",
       "        vertical-align: top;\n",
       "    }\n",
       "\n",
       "    .dataframe thead th {\n",
       "        text-align: right;\n",
       "    }\n",
       "</style>\n",
       "<table border=\"1\" class=\"dataframe\">\n",
       "  <thead>\n",
       "    <tr style=\"text-align: right;\">\n",
       "      <th></th>\n",
       "      <th>ID_hecho</th>\n",
       "      <th>FECHA</th>\n",
       "      <th>AAAA</th>\n",
       "      <th>MM</th>\n",
       "      <th>DD</th>\n",
       "      <th>ROL</th>\n",
       "      <th>VICTIMA</th>\n",
       "      <th>SEXO</th>\n",
       "      <th>EDAD</th>\n",
       "      <th>FECHA_FALLECIMIENTO</th>\n",
       "    </tr>\n",
       "  </thead>\n",
       "  <tbody>\n",
       "    <tr>\n",
       "      <th>0</th>\n",
       "      <td>2016-0001</td>\n",
       "      <td>2016-01-01</td>\n",
       "      <td>2016</td>\n",
       "      <td>1</td>\n",
       "      <td>1</td>\n",
       "      <td>CONDUCTOR</td>\n",
       "      <td>MOTO</td>\n",
       "      <td>MASCULINO</td>\n",
       "      <td>19</td>\n",
       "      <td>2016-01-01 00:00:00</td>\n",
       "    </tr>\n",
       "    <tr>\n",
       "      <th>1</th>\n",
       "      <td>2016-0002</td>\n",
       "      <td>2016-01-02</td>\n",
       "      <td>2016</td>\n",
       "      <td>1</td>\n",
       "      <td>2</td>\n",
       "      <td>CONDUCTOR</td>\n",
       "      <td>AUTO</td>\n",
       "      <td>MASCULINO</td>\n",
       "      <td>70</td>\n",
       "      <td>2016-01-02 00:00:00</td>\n",
       "    </tr>\n",
       "    <tr>\n",
       "      <th>2</th>\n",
       "      <td>2016-0003</td>\n",
       "      <td>2016-01-03</td>\n",
       "      <td>2016</td>\n",
       "      <td>1</td>\n",
       "      <td>3</td>\n",
       "      <td>CONDUCTOR</td>\n",
       "      <td>MOTO</td>\n",
       "      <td>MASCULINO</td>\n",
       "      <td>30</td>\n",
       "      <td>2016-01-03 00:00:00</td>\n",
       "    </tr>\n",
       "    <tr>\n",
       "      <th>3</th>\n",
       "      <td>2016-0004</td>\n",
       "      <td>2016-01-10</td>\n",
       "      <td>2016</td>\n",
       "      <td>1</td>\n",
       "      <td>10</td>\n",
       "      <td>CONDUCTOR</td>\n",
       "      <td>MOTO</td>\n",
       "      <td>MASCULINO</td>\n",
       "      <td>18</td>\n",
       "      <td>SD</td>\n",
       "    </tr>\n",
       "    <tr>\n",
       "      <th>4</th>\n",
       "      <td>2016-0005</td>\n",
       "      <td>2016-01-21</td>\n",
       "      <td>2016</td>\n",
       "      <td>1</td>\n",
       "      <td>21</td>\n",
       "      <td>CONDUCTOR</td>\n",
       "      <td>MOTO</td>\n",
       "      <td>MASCULINO</td>\n",
       "      <td>29</td>\n",
       "      <td>2016-02-01 00:00:00</td>\n",
       "    </tr>\n",
       "  </tbody>\n",
       "</table>\n",
       "</div>"
      ],
      "text/plain": [
       "    ID_hecho      FECHA  AAAA  MM  DD        ROL VICTIMA       SEXO EDAD  \\\n",
       "0  2016-0001 2016-01-01  2016   1   1  CONDUCTOR    MOTO  MASCULINO   19   \n",
       "1  2016-0002 2016-01-02  2016   1   2  CONDUCTOR    AUTO  MASCULINO   70   \n",
       "2  2016-0003 2016-01-03  2016   1   3  CONDUCTOR    MOTO  MASCULINO   30   \n",
       "3  2016-0004 2016-01-10  2016   1  10  CONDUCTOR    MOTO  MASCULINO   18   \n",
       "4  2016-0005 2016-01-21  2016   1  21  CONDUCTOR    MOTO  MASCULINO   29   \n",
       "\n",
       "   FECHA_FALLECIMIENTO  \n",
       "0  2016-01-01 00:00:00  \n",
       "1  2016-01-02 00:00:00  \n",
       "2  2016-01-03 00:00:00  \n",
       "3                   SD  \n",
       "4  2016-02-01 00:00:00  "
      ]
     },
     "execution_count": 21,
     "metadata": {},
     "output_type": "execute_result"
    }
   ],
   "source": [
    "victimas_homicidios.head(5)"
   ]
  },
  {
   "cell_type": "code",
   "execution_count": 22,
   "metadata": {},
   "outputs": [
    {
     "name": "stdout",
     "output_type": "stream",
     "text": [
      "<class 'pandas.core.frame.DataFrame'>\n",
      "RangeIndex: 717 entries, 0 to 716\n",
      "Data columns (total 10 columns):\n",
      " #   Column               Non-Null Count  Dtype         \n",
      "---  ------               --------------  -----         \n",
      " 0   ID_hecho             717 non-null    object        \n",
      " 1   FECHA                717 non-null    datetime64[ns]\n",
      " 2   AAAA                 717 non-null    int64         \n",
      " 3   MM                   717 non-null    int64         \n",
      " 4   DD                   717 non-null    int64         \n",
      " 5   ROL                  717 non-null    object        \n",
      " 6   VICTIMA              717 non-null    object        \n",
      " 7   SEXO                 717 non-null    object        \n",
      " 8   EDAD                 717 non-null    object        \n",
      " 9   FECHA_FALLECIMIENTO  717 non-null    object        \n",
      "dtypes: datetime64[ns](1), int64(3), object(6)\n",
      "memory usage: 56.1+ KB\n"
     ]
    }
   ],
   "source": [
    "victimas_homicidios.info()"
   ]
  },
  {
   "cell_type": "code",
   "execution_count": 23,
   "metadata": {},
   "outputs": [
    {
     "data": {
      "text/plain": [
       "ID_hecho                       object\n",
       "FECHA                  datetime64[ns]\n",
       "AAAA                            int64\n",
       "MM                              int64\n",
       "DD                              int64\n",
       "ROL                            object\n",
       "VICTIMA                        object\n",
       "SEXO                           object\n",
       "EDAD                           object\n",
       "FECHA_FALLECIMIENTO            object\n",
       "dtype: object"
      ]
     },
     "execution_count": 23,
     "metadata": {},
     "output_type": "execute_result"
    }
   ],
   "source": [
    "victimas_homicidios.dtypes"
   ]
  },
  {
   "cell_type": "code",
   "execution_count": 24,
   "metadata": {},
   "outputs": [
    {
     "data": {
      "text/plain": [
       "(717, 10)"
      ]
     },
     "execution_count": 24,
     "metadata": {},
     "output_type": "execute_result"
    }
   ],
   "source": [
    "victimas_homicidios.shape"
   ]
  },
  {
   "cell_type": "code",
   "execution_count": 25,
   "metadata": {},
   "outputs": [
    {
     "data": {
      "text/plain": [
       "Index(['ID_hecho', 'FECHA', 'AAAA', 'MM', 'DD', 'ROL', 'VICTIMA', 'SEXO',\n",
       "       'EDAD', 'FECHA_FALLECIMIENTO'],\n",
       "      dtype='object')"
      ]
     },
     "execution_count": 25,
     "metadata": {},
     "output_type": "execute_result"
    }
   ],
   "source": [
    "victimas_homicidios.columns"
   ]
  },
  {
   "cell_type": "markdown",
   "metadata": {},
   "source": [
    "#### (2) PROCESO DE ETL DEL DATAFRAME..."
   ]
  },
  {
   "cell_type": "code",
   "execution_count": 26,
   "metadata": {},
   "outputs": [],
   "source": [
    "# ELIMINACIÓN DE LAS COLUMNAS INNECESARIAS...\n",
    "\n",
    "columnas_a_eliminar = ['FECHA']\n",
    "victimas_homicidios = victimas_homicidios.drop(columnas_a_eliminar, axis=1)"
   ]
  },
  {
   "cell_type": "code",
   "execution_count": 27,
   "metadata": {},
   "outputs": [],
   "source": [
    "# RENOMBRAR LAS COLUMNAS...\n",
    "\n",
    "nuevos_nombres = {'ID_hecho':'ID_VICTIMAS', 'AAAA': 'AÑO', 'MM': 'MES', 'DD': 'DIA', 'VICTIMA': 'VEHICULO_DE_VICTIMA'}\n",
    "victimas_homicidios = victimas_homicidios.rename(columns=nuevos_nombres)"
   ]
  },
  {
   "cell_type": "code",
   "execution_count": 28,
   "metadata": {},
   "outputs": [],
   "source": [
    "# NORMALIZACIÓN DE LOS DATOS DE LAS COLUMNAS EN UN SOLO TIPO DE DATOS...\n",
    "\n",
    "victimas_homicidios['ROL'] = victimas_homicidios['ROL'].astype(str)\n",
    "victimas_homicidios['VEHICULO_DE_VICTIMA'] = victimas_homicidios['VEHICULO_DE_VICTIMA'].astype(str)\n",
    "victimas_homicidios['SEXO'] = victimas_homicidios['SEXO'].astype(str)"
   ]
  },
  {
   "cell_type": "code",
   "execution_count": 29,
   "metadata": {},
   "outputs": [],
   "source": [
    "# TRABAJO CON LA COLUMNA \"ROL\"\n",
    "\n",
    "victimas_homicidios['ROL'] = victimas_homicidios['ROL'].replace('SD', 'CONDUCTOR')"
   ]
  },
  {
   "cell_type": "code",
   "execution_count": 30,
   "metadata": {},
   "outputs": [],
   "source": [
    "# TRABAJO CON LA COLUMNA \"VEHICULO_DE_VICTIMA\"\n",
    "\n",
    "victimas_homicidios['VEHICULO_DE_VICTIMA'] = victimas_homicidios['VEHICULO_DE_VICTIMA'].replace('SD', 'MOTO')"
   ]
  },
  {
   "cell_type": "code",
   "execution_count": 31,
   "metadata": {},
   "outputs": [],
   "source": [
    "# TRABAJO CON LA COLUMNA \"SEXO\"\n",
    "\n",
    "victimas_homicidios['SEXO'] = victimas_homicidios['SEXO'].replace('SD', 'MASCULINO')"
   ]
  },
  {
   "cell_type": "code",
   "execution_count": 32,
   "metadata": {},
   "outputs": [],
   "source": [
    "# TRABAJO CON LA COLUMNA \"EDAD\"\n",
    "\n",
    "victimas_homicidios['EDAD'] = victimas_homicidios['EDAD'].replace('SD', 30)"
   ]
  },
  {
   "cell_type": "code",
   "execution_count": 33,
   "metadata": {},
   "outputs": [],
   "source": [
    "# TRABAJO CON LA COLUMNA \"FECHA_FALLECIMIENTO\"\n",
    "\n",
    "fecha_reemplazo = pd.to_datetime('2017-02-26')\n",
    "victimas_homicidios['FECHA_FALLECIMIENTO'] = victimas_homicidios['FECHA_FALLECIMIENTO'].replace('SD', fecha_reemplazo)\n",
    "\n",
    "# Convertir la columna 'FECHA_FALLECIMIENTO' al tipo de dato datetime\n",
    "victimas_homicidios['FECHA_FALLECIMIENTO'] = pd.to_datetime(victimas_homicidios['FECHA_FALLECIMIENTO'])\n",
    "\n",
    "# Dividir la columna 'FECHA_FALLECIMIENTO' en columnas de año, mes y día\n",
    "victimas_homicidios['AÑO_FALLECIMIENTO'] = victimas_homicidios['FECHA_FALLECIMIENTO'].dt.year\n",
    "victimas_homicidios['MES_FALLECIMIENTO'] = victimas_homicidios['FECHA_FALLECIMIENTO'].dt.month\n",
    "victimas_homicidios['DÍA_FALLECIMIENTO'] = victimas_homicidios['FECHA_FALLECIMIENTO'].dt.day\n",
    "\n",
    "# Eliminar la columna innecesaria del dataframe\n",
    "\n",
    "columnas_a_eliminar = ['FECHA_FALLECIMIENTO']\n",
    "victimas_homicidios = victimas_homicidios.drop(columnas_a_eliminar, axis=1)"
   ]
  },
  {
   "cell_type": "code",
   "execution_count": 34,
   "metadata": {},
   "outputs": [],
   "source": [
    "# TRATAMIENTO DE VALORES DEL DATAFRAME...\n",
    "\n",
    "# Identificar valores nulos en el DataFrame y contarlos por columna\n",
    "valores_nulos = victimas_homicidios.isnull().sum()\n",
    "\n",
    "# Identificar valores faltantes (en blanco) en el DataFrame y contarlos por columna\n",
    "valores_faltantes = (victimas_homicidios == '').sum()\n",
    "\n",
    "# Identificar valores iguales a \"SD\" en el DataFrame y contarlos por columna\n",
    "valores_SD = (victimas_homicidios == 'SD').sum()\n",
    "\n",
    "# Identificar valores iguales a \"sd\" en el DataFrame y contarlos por columna\n",
    "valores_sd = (victimas_homicidios == 'sd').sum()\n",
    "\n",
    "# Calcular porcentajes\n",
    "porcentaje_nulos = (valores_nulos / len(victimas_homicidios)) * 100\n",
    "porcentaje_faltantes = (valores_faltantes / len(victimas_homicidios)) * 100\n",
    "porcentaje_SD = (valores_SD / len(victimas_homicidios)) * 100\n",
    "porcentaje_sd = (valores_sd / len(victimas_homicidios)) * 100\n",
    "\n",
    "# Crear un DataFrame con los resultados\n",
    "resultados_datos_victimas = pd.DataFrame({\n",
    "    'Valores Nulos': valores_nulos,\n",
    "    'Porcentaje Nulos': porcentaje_nulos,\n",
    "    'Valores Faltantes': valores_faltantes,\n",
    "    'Porcentaje Faltantes': porcentaje_faltantes,\n",
    "    'Valores \"SD\"': valores_SD,\n",
    "    'Porcentaje \"SD\"': porcentaje_SD,\n",
    "    'Valores \"sd\"': valores_sd,\n",
    "    'Porcentaje \"sd\"': porcentaje_sd\n",
    "})"
   ]
  },
  {
   "cell_type": "code",
   "execution_count": 35,
   "metadata": {},
   "outputs": [
    {
     "data": {
      "text/html": [
       "<div>\n",
       "<style scoped>\n",
       "    .dataframe tbody tr th:only-of-type {\n",
       "        vertical-align: middle;\n",
       "    }\n",
       "\n",
       "    .dataframe tbody tr th {\n",
       "        vertical-align: top;\n",
       "    }\n",
       "\n",
       "    .dataframe thead th {\n",
       "        text-align: right;\n",
       "    }\n",
       "</style>\n",
       "<table border=\"1\" class=\"dataframe\">\n",
       "  <thead>\n",
       "    <tr style=\"text-align: right;\">\n",
       "      <th></th>\n",
       "      <th>Valores Nulos</th>\n",
       "      <th>Porcentaje Nulos</th>\n",
       "      <th>Valores Faltantes</th>\n",
       "      <th>Porcentaje Faltantes</th>\n",
       "      <th>Valores \"SD\"</th>\n",
       "      <th>Porcentaje \"SD\"</th>\n",
       "      <th>Valores \"sd\"</th>\n",
       "      <th>Porcentaje \"sd\"</th>\n",
       "    </tr>\n",
       "  </thead>\n",
       "  <tbody>\n",
       "    <tr>\n",
       "      <th>ID_VICTIMAS</th>\n",
       "      <td>0</td>\n",
       "      <td>0.0</td>\n",
       "      <td>0</td>\n",
       "      <td>0.0</td>\n",
       "      <td>0</td>\n",
       "      <td>0.0</td>\n",
       "      <td>0</td>\n",
       "      <td>0.0</td>\n",
       "    </tr>\n",
       "    <tr>\n",
       "      <th>AÑO</th>\n",
       "      <td>0</td>\n",
       "      <td>0.0</td>\n",
       "      <td>0</td>\n",
       "      <td>0.0</td>\n",
       "      <td>0</td>\n",
       "      <td>0.0</td>\n",
       "      <td>0</td>\n",
       "      <td>0.0</td>\n",
       "    </tr>\n",
       "    <tr>\n",
       "      <th>MES</th>\n",
       "      <td>0</td>\n",
       "      <td>0.0</td>\n",
       "      <td>0</td>\n",
       "      <td>0.0</td>\n",
       "      <td>0</td>\n",
       "      <td>0.0</td>\n",
       "      <td>0</td>\n",
       "      <td>0.0</td>\n",
       "    </tr>\n",
       "    <tr>\n",
       "      <th>DIA</th>\n",
       "      <td>0</td>\n",
       "      <td>0.0</td>\n",
       "      <td>0</td>\n",
       "      <td>0.0</td>\n",
       "      <td>0</td>\n",
       "      <td>0.0</td>\n",
       "      <td>0</td>\n",
       "      <td>0.0</td>\n",
       "    </tr>\n",
       "    <tr>\n",
       "      <th>ROL</th>\n",
       "      <td>0</td>\n",
       "      <td>0.0</td>\n",
       "      <td>0</td>\n",
       "      <td>0.0</td>\n",
       "      <td>0</td>\n",
       "      <td>0.0</td>\n",
       "      <td>0</td>\n",
       "      <td>0.0</td>\n",
       "    </tr>\n",
       "    <tr>\n",
       "      <th>VEHICULO_DE_VICTIMA</th>\n",
       "      <td>0</td>\n",
       "      <td>0.0</td>\n",
       "      <td>0</td>\n",
       "      <td>0.0</td>\n",
       "      <td>0</td>\n",
       "      <td>0.0</td>\n",
       "      <td>0</td>\n",
       "      <td>0.0</td>\n",
       "    </tr>\n",
       "    <tr>\n",
       "      <th>SEXO</th>\n",
       "      <td>0</td>\n",
       "      <td>0.0</td>\n",
       "      <td>0</td>\n",
       "      <td>0.0</td>\n",
       "      <td>0</td>\n",
       "      <td>0.0</td>\n",
       "      <td>0</td>\n",
       "      <td>0.0</td>\n",
       "    </tr>\n",
       "    <tr>\n",
       "      <th>EDAD</th>\n",
       "      <td>0</td>\n",
       "      <td>0.0</td>\n",
       "      <td>0</td>\n",
       "      <td>0.0</td>\n",
       "      <td>0</td>\n",
       "      <td>0.0</td>\n",
       "      <td>0</td>\n",
       "      <td>0.0</td>\n",
       "    </tr>\n",
       "    <tr>\n",
       "      <th>AÑO_FALLECIMIENTO</th>\n",
       "      <td>0</td>\n",
       "      <td>0.0</td>\n",
       "      <td>0</td>\n",
       "      <td>0.0</td>\n",
       "      <td>0</td>\n",
       "      <td>0.0</td>\n",
       "      <td>0</td>\n",
       "      <td>0.0</td>\n",
       "    </tr>\n",
       "    <tr>\n",
       "      <th>MES_FALLECIMIENTO</th>\n",
       "      <td>0</td>\n",
       "      <td>0.0</td>\n",
       "      <td>0</td>\n",
       "      <td>0.0</td>\n",
       "      <td>0</td>\n",
       "      <td>0.0</td>\n",
       "      <td>0</td>\n",
       "      <td>0.0</td>\n",
       "    </tr>\n",
       "    <tr>\n",
       "      <th>DÍA_FALLECIMIENTO</th>\n",
       "      <td>0</td>\n",
       "      <td>0.0</td>\n",
       "      <td>0</td>\n",
       "      <td>0.0</td>\n",
       "      <td>0</td>\n",
       "      <td>0.0</td>\n",
       "      <td>0</td>\n",
       "      <td>0.0</td>\n",
       "    </tr>\n",
       "  </tbody>\n",
       "</table>\n",
       "</div>"
      ],
      "text/plain": [
       "                     Valores Nulos  Porcentaje Nulos  Valores Faltantes  \\\n",
       "ID_VICTIMAS                      0               0.0                  0   \n",
       "AÑO                              0               0.0                  0   \n",
       "MES                              0               0.0                  0   \n",
       "DIA                              0               0.0                  0   \n",
       "ROL                              0               0.0                  0   \n",
       "VEHICULO_DE_VICTIMA              0               0.0                  0   \n",
       "SEXO                             0               0.0                  0   \n",
       "EDAD                             0               0.0                  0   \n",
       "AÑO_FALLECIMIENTO                0               0.0                  0   \n",
       "MES_FALLECIMIENTO                0               0.0                  0   \n",
       "DÍA_FALLECIMIENTO                0               0.0                  0   \n",
       "\n",
       "                     Porcentaje Faltantes  Valores \"SD\"  Porcentaje \"SD\"  \\\n",
       "ID_VICTIMAS                           0.0             0              0.0   \n",
       "AÑO                                   0.0             0              0.0   \n",
       "MES                                   0.0             0              0.0   \n",
       "DIA                                   0.0             0              0.0   \n",
       "ROL                                   0.0             0              0.0   \n",
       "VEHICULO_DE_VICTIMA                   0.0             0              0.0   \n",
       "SEXO                                  0.0             0              0.0   \n",
       "EDAD                                  0.0             0              0.0   \n",
       "AÑO_FALLECIMIENTO                     0.0             0              0.0   \n",
       "MES_FALLECIMIENTO                     0.0             0              0.0   \n",
       "DÍA_FALLECIMIENTO                     0.0             0              0.0   \n",
       "\n",
       "                     Valores \"sd\"  Porcentaje \"sd\"  \n",
       "ID_VICTIMAS                     0              0.0  \n",
       "AÑO                             0              0.0  \n",
       "MES                             0              0.0  \n",
       "DIA                             0              0.0  \n",
       "ROL                             0              0.0  \n",
       "VEHICULO_DE_VICTIMA             0              0.0  \n",
       "SEXO                            0              0.0  \n",
       "EDAD                            0              0.0  \n",
       "AÑO_FALLECIMIENTO               0              0.0  \n",
       "MES_FALLECIMIENTO               0              0.0  \n",
       "DÍA_FALLECIMIENTO               0              0.0  "
      ]
     },
     "execution_count": 35,
     "metadata": {},
     "output_type": "execute_result"
    }
   ],
   "source": [
    "resultados_datos_victimas"
   ]
  },
  {
   "cell_type": "markdown",
   "metadata": {},
   "source": [
    "## 5 - PROCESO DE ALMACENAMIENTO DE LOS DATOS LIMPIOS..."
   ]
  },
  {
   "cell_type": "code",
   "execution_count": 36,
   "metadata": {},
   "outputs": [],
   "source": [
    "# Especifica la ruta del directorio donde deseas guardar los DataFrames en formato Parquet\n",
    "carpeta_DATASET_LIMPIO = 'dataset_limpio'\n",
    "\n",
    "# Verifica si la carpeta ya existe, si no, créala\n",
    "if not os.path.exists(carpeta_DATASET_LIMPIO):\n",
    "    os.makedirs(carpeta_DATASET_LIMPIO)\n",
    "\n",
    "# Guarda los DataFrames en archivos Parquet\n",
    "hechos_homicidios.to_parquet(os.path.join(carpeta_DATASET_LIMPIO, \"hechos_homicidios.parquet\"))\n",
    "victimas_homicidios.to_parquet(os.path.join(carpeta_DATASET_LIMPIO, \"victimas_homicidios.parquet\"))"
   ]
  }
 ],
 "metadata": {
  "kernelspec": {
   "display_name": "venv",
   "language": "python",
   "name": "python3"
  },
  "language_info": {
   "codemirror_mode": {
    "name": "ipython",
    "version": 3
   },
   "file_extension": ".py",
   "mimetype": "text/x-python",
   "name": "python",
   "nbconvert_exporter": "python",
   "pygments_lexer": "ipython3",
   "version": "3.11.5"
  }
 },
 "nbformat": 4,
 "nbformat_minor": 2
}
